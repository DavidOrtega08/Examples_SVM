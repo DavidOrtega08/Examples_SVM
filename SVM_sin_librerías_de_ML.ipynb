{
  "cells": [
    {
      "cell_type": "code",
      "execution_count": 2,
      "metadata": {},
      "outputs": [],
      "source": [
        "# Librerias necesarias\n",
        "\n",
        "import numpy as np\n",
        "import matplotlib.pyplot as plt\n",
        "from random import randrange\n",
        "import pandas as pd\n",
        "import cvxpy as cp\n"
      ]
    },
    {
      "cell_type": "code",
      "execution_count": 3,
      "metadata": {
        "colab": {
          "base_uri": "https://localhost:8080/",
          "height": 265
        },
        "id": "5mmoiFbGJkH0",
        "outputId": "479c3ed2-587e-494d-9929-8854e6dbb35d"
      },
      "outputs": [
        {
          "name": "stderr",
          "output_type": "stream",
          "text": [
            "C:\\Users\\ASUS\\AppData\\Local\\Temp/ipykernel_5964/1877058623.py:24: UserWarning: Matplotlib is currently using module://matplotlib_inline.backend_inline, which is a non-GUI backend, so cannot show the figure.\n",
            "  fig.show()\n"
          ]
        },
        {
          "data": {
            "image/png": "[encoded data removed]",
            "text/plain": [
              "<Figure size 432x288 with 1 Axes>"
            ]
          },
          "metadata": {
            "needs_background": "light"
          },
          "output_type": "display_data"
        }
      ],
      "source": [
        "# Los datos\n",
        "\n",
        "# Determinar la cantidad de datos para cada conjunto\n",
        "n = 200\n",
        "\n",
        "# Creacion aleatoria de los conjuntos\n",
        "x1 = (n/2)*np.random.randn(n)\n",
        "y1 = (n/2)*np.random.randn(n)\n",
        "x2 = (n/2)*np.random.randn(n) + randrange(5)*n\n",
        "y2 = (n/2)*np.random.randn(n) + randrange(5)*n\n",
        "\n",
        "# Graficar los conjuntos para comprobar que los conjuntos son lienalmente separables\n",
        "\n",
        "# Crear un objeto figura\n",
        "fig, ax = plt.subplots()\n",
        "\n",
        "# Graficar el primer conjunto de datos como diamantes verdes\n",
        "ax.plot(x1,y1, \"d\", color=\"green\")\n",
        "\n",
        "# Graficar el segundo conjunto de puntos como cruces azules\n",
        "ax.plot(x2,y2, \"P\", color=\"blue\")\n",
        "\n",
        "# Mostrar los datos\n",
        "fig.show()"
      ]
    },
    {
      "cell_type": "code",
      "execution_count": 4,
      "metadata": {
        "colab": {
          "base_uri": "https://localhost:8080/",
          "height": 424
        },
        "id": "HlYS02gZ10vQ",
        "outputId": "8dd97661-6243-46e6-ab6c-c750cd95c77f"
      },
      "outputs": [
        {
          "data": {
            "text/html": [
              "<div>\n",
              "<style scoped>\n",
              "    .dataframe tbody tr th:only-of-type {\n",
              "        vertical-align: middle;\n",
              "    }\n",
              "\n",
              "    .dataframe tbody tr th {\n",
              "        vertical-align: top;\n",
              "    }\n",
              "\n",
              "    .dataframe thead th {\n",
              "        text-align: right;\n",
              "    }\n",
              "</style>\n",
              "<table border=\"1\" class=\"dataframe\">\n",
              "  <thead>\n",
              "    <tr style=\"text-align: right;\">\n",
              "      <th></th>\n",
              "      <th>x</th>\n",
              "      <th>y</th>\n",
              "      <th>Etiqueta</th>\n",
              "    </tr>\n",
              "  </thead>\n",
              "  <tbody>\n",
              "    <tr>\n",
              "      <th>0</th>\n",
              "      <td>86.391266</td>\n",
              "      <td>25.856552</td>\n",
              "      <td>-1</td>\n",
              "    </tr>\n",
              "    <tr>\n",
              "      <th>1</th>\n",
              "      <td>29.212173</td>\n",
              "      <td>-39.983849</td>\n",
              "      <td>-1</td>\n",
              "    </tr>\n",
              "    <tr>\n",
              "      <th>2</th>\n",
              "      <td>12.852040</td>\n",
              "      <td>-156.831989</td>\n",
              "      <td>-1</td>\n",
              "    </tr>\n",
              "    <tr>\n",
              "      <th>3</th>\n",
              "      <td>48.253549</td>\n",
              "      <td>9.313781</td>\n",
              "      <td>-1</td>\n",
              "    </tr>\n",
              "    <tr>\n",
              "      <th>4</th>\n",
              "      <td>-99.972273</td>\n",
              "      <td>-66.253677</td>\n",
              "      <td>-1</td>\n",
              "    </tr>\n",
              "    <tr>\n",
              "      <th>...</th>\n",
              "      <td>...</td>\n",
              "      <td>...</td>\n",
              "      <td>...</td>\n",
              "    </tr>\n",
              "    <tr>\n",
              "      <th>395</th>\n",
              "      <td>631.588591</td>\n",
              "      <td>305.650424</td>\n",
              "      <td>1</td>\n",
              "    </tr>\n",
              "    <tr>\n",
              "      <th>396</th>\n",
              "      <td>597.946588</td>\n",
              "      <td>224.085077</td>\n",
              "      <td>1</td>\n",
              "    </tr>\n",
              "    <tr>\n",
              "      <th>397</th>\n",
              "      <td>511.424972</td>\n",
              "      <td>253.872858</td>\n",
              "      <td>1</td>\n",
              "    </tr>\n",
              "    <tr>\n",
              "      <th>398</th>\n",
              "      <td>681.501304</td>\n",
              "      <td>174.900034</td>\n",
              "      <td>1</td>\n",
              "    </tr>\n",
              "    <tr>\n",
              "      <th>399</th>\n",
              "      <td>643.093882</td>\n",
              "      <td>422.284071</td>\n",
              "      <td>1</td>\n",
              "    </tr>\n",
              "  </tbody>\n",
              "</table>\n",
              "<p>400 rows × 3 columns</p>\n",
              "</div>"
            ],
            "text/plain": [
              "              x           y  Etiqueta\n",
              "0     86.391266   25.856552        -1\n",
              "1     29.212173  -39.983849        -1\n",
              "2     12.852040 -156.831989        -1\n",
              "3     48.253549    9.313781        -1\n",
              "4    -99.972273  -66.253677        -1\n",
              "..          ...         ...       ...\n",
              "395  631.588591  305.650424         1\n",
              "396  597.946588  224.085077         1\n",
              "397  511.424972  253.872858         1\n",
              "398  681.501304  174.900034         1\n",
              "399  643.093882  422.284071         1\n",
              "\n",
              "[400 rows x 3 columns]"
            ]
          },
          "execution_count": 4,
          "metadata": {},
          "output_type": "execute_result"
        }
      ],
      "source": [
        "# Preparacion de los datos\n",
        "\n",
        "# Creacion de listas de los valores tanto en x como en y de los dos conjuntos\n",
        "x = np.append(x1,[x2])\n",
        "y = np.append(y1,[y2])\n",
        "\n",
        "# Creacion de la lista que mostrara la etiqueta de cada elemento del conjunto\n",
        "etiquetas = []\n",
        "\n",
        "# Etiquetar los datos segun su posicion en la lista de los dos conjuntos\n",
        "for i in range(n):\n",
        "  etiquetas.append(-1)\n",
        "for i in range(n,2*n):\n",
        "  etiquetas.append(1)\n",
        "\n",
        "# Creacion de un dataframe con los datos y su respectiva etiqueta\n",
        "dataframe = pd.DataFrame({'x':x, 'y':y, 'Etiqueta':etiquetas})\n",
        "\n",
        "dataframe"
      ]
    },
    {
      "cell_type": "code",
      "execution_count": 5,
      "metadata": {
        "colab": {
          "base_uri": "https://localhost:8080/",
          "height": 265
        },
        "id": "hFoOdwVRNN49",
        "outputId": "9e124575-da67-41c4-a009-0bfa594ff382"
      },
      "outputs": [
        {
          "name": "stderr",
          "output_type": "stream",
          "text": [
            "c:\\Users\\ASUS\\anaconda3\\lib\\site-packages\\cvxpy\\expressions\\expression.py:593: UserWarning: \n",
            "This use of ``*`` has resulted in matrix multiplication.\n",
            "Using ``*`` for matrix multiplication has been deprecated since CVXPY 1.1.\n",
            "    Use ``*`` for matrix-scalar and vector-scalar multiplication.\n",
            "    Use ``@`` for matrix-matrix and matrix-vector multiplication.\n",
            "    Use ``multiply`` for elementwise multiplication.\n",
            "This code path has been hit 1 times so far.\n",
            "\n",
            "  warnings.warn(msg, UserWarning)\n",
            "C:\\Users\\ASUS\\AppData\\Local\\Temp/ipykernel_5964/2689487236.py:50: UserWarning: Matplotlib is currently using module://matplotlib_inline.backend_inline, which is a non-GUI backend, so cannot show the figure.\n",
            "  fig.show()\n"
          ]
        },
        {
          "data": {
            "image/png": "[encoded data removed]",
            "text/plain": [
              "<Figure size 432x288 with 1 Axes>"
            ]
          },
          "metadata": {
            "needs_background": "light"
          },
          "output_type": "display_data"
        }
      ],
      "source": [
        "# Ajuste de la dimension de la lista con la etiquetas para poder definir la función objetivo  \n",
        "etiquetas = np.reshape(etiquetas, (2*n, 1))\n",
        "\n",
        "# Acomodar los datos en un arreglo a partir del data frame\n",
        "arreglo_vectores = np.array([[dataframe['x'][0],dataframe['y'][0]]])\n",
        "for j in range(2*n-1):\n",
        "  arreglo_vectores = np.append(arreglo_vectores,[[dataframe['x'][j+1],dataframe['y'][j+1]]],0)\n",
        "\n",
        "\n",
        "# El problema de Optimizacion\n",
        "\n",
        "# Creacion de las variables\n",
        "w = cp.Variable((2,1))\n",
        "b = cp.Variable()\n",
        "\n",
        "# Planteamiento del problema segun la teoria expuesta\n",
        "objective = cp.Minimize((1/2)*cp.norm(w)*2)\n",
        "constraints = [cp.multiply(etiquetas, arreglo_vectores*w + b) >= 1]\n",
        "\n",
        "# Solucion del problema\n",
        "prob = cp.Problem(objective, constraints)\n",
        "result = prob.solve()\n",
        "\n",
        "\n",
        "\n",
        "# Visualizacion\n",
        "\n",
        "\n",
        "# Se crea un conjunto de puntos en el rango de valores de los datos\n",
        "x = np.linspace(min(x1), max(x2), n)\n",
        "\n",
        "# Generacion del hiperplano y dos margenes(opcionales), usando la solucion del problema de optimizacion\n",
        "y = -(w.value[0]*x + b.value)/w.value[1]\n",
        "h1 = -(w.value[0]*x + b.value-1)/w.value[1]\n",
        "h2 = -(w.value[0]*x + b.value+1)/w.value[1]\n",
        "\n",
        "# Graficar los datos junto con el hiperplano\n",
        "fig, ax = plt.subplots()\n",
        "ax.plot(x, h1, \"--k\")\n",
        "ax.plot(x, h2, \"--k\")\n",
        "ax.plot(x1, y1, \"d\", color=\"green\")\n",
        "ax.plot(x2, y2, \"P\", color=\"blue\")\n",
        "ax.plot(x, y, \"r\", label = \"hiperplano\")\n",
        "\n",
        "# Para mejorar la visualizacion se restringe la dimension del grafico\n",
        "plt.xlim(min(x1)-1, max(x2)+1)\n",
        "plt.ylim(min(y1)-1, max(y2)+1)\n",
        "\n",
        "# Mostrar los datos y el hiperplano encontrado\n",
        "fig.show()"
      ]
    },
    {
      "cell_type": "code",
      "execution_count": 6,
      "metadata": {
        "id": "g93TZUTl2IFn"
      },
      "outputs": [],
      "source": [
        "#Para un solo punto\n",
        "def predecir(punto=np.array([0,0])):\n",
        " etiqueta=np.sign(w.value[0]*punto[0]+w.value[1]*punto[1]+b.value)\n",
        " return etiqueta\n",
        "\n",
        "#Para uno o más puntos\n",
        "def predict(puntos):\n",
        "  etiquetas=np.array([])\n",
        "  for i in range(len(puntos)):\n",
        "    e=predecir(puntos[i])\n",
        "    etiquetas=np.append(etiquetas,e)\n",
        "  return etiquetas"
      ]
    },
    {
      "cell_type": "code",
      "execution_count": 7,
      "metadata": {
        "colab": {
          "base_uri": "https://localhost:8080/"
        },
        "id": "TsaXiBFu1sFx",
        "outputId": "d7eccbf9-e81c-4f2f-bbb6-616a8f8a2dac"
      },
      "outputs": [
        {
          "data": {
            "text/plain": [
              "array([-1., -1.])"
            ]
          },
          "execution_count": 7,
          "metadata": {},
          "output_type": "execute_result"
        }
      ],
      "source": [
        "predict([[50,60],[100,80]])"
      ]
    },
    {
      "cell_type": "code",
      "execution_count": null,
      "metadata": {
        "id": "honnNIKmCU9u"
      },
      "outputs": [],
      "source": []
    }
  ],
  "metadata": {
    "colab": {
      "name": "SVM sin librerías de ML",
      "provenance": [],
      "toc_visible": true
    },
    "interpreter": {
      "hash": "a90aeebcf29d64a654773811cc170cb25061cb2498f10ac689db374c7bf325de"
    },
    "kernelspec": {
      "display_name": "Python 3.9.7 ('base')",
      "language": "python",
      "name": "python3"
    },
    "language_info": {
      "codemirror_mode": {
        "name": "ipython",
        "version": 3
      },
      "file_extension": ".py",
      "mimetype": "text/x-python",
      "name": "python",
      "nbconvert_exporter": "python",
      "pygments_lexer": "ipython3",
      "version": "3.9.7"
    }
  },
  "nbformat": 4,
  "nbformat_minor": 0
}
