{
  "cells": [
    {
      "cell_type": "markdown",
      "metadata": {
        "id": "kamtbqravVHM"
      },
      "source": [
        "# Guia"
      ]
    },
    {
      "cell_type": "code",
      "execution_count": 2,
      "metadata": {
        "id": "2M6LGg3SCw4N"
      },
      "outputs": [],
      "source": [
        "#Modelo\n",
        "from sklearn import svm\n",
        "import numpy as np\n",
        "import matplotlib.pyplot as plt\n",
        "import pandas as pd\n",
        "import random as rd\n",
        "\n",
        "#Estos cuatro son nuevos y muy importantes para los resultados\n",
        "from sklearn.model_selection import train_test_split \n",
        "from sklearn.preprocessing import StandardScaler\n",
        "from sklearn.metrics import confusion_matrix\n",
        "from sklearn.metrics import plot_confusion_matrix\n",
        "\n",
        "# Visualizaciones\n",
        "import seaborn as sns"
      ]
    },
    {
      "cell_type": "markdown",
      "metadata": {
        "id": "MRF1Z9EzD53f"
      },
      "source": [
        "Links:\n",
        "\n",
        "*  [Latex](https://es.overleaf.com/project/60d3a1695d85cb82eebc6702)\n",
        "*  [Base de Datos Adultos](https://archive.ics.uci.edu/ml/datasets/Adult)\n",
        "*  [Sckit Learn SVM](https://scikit-learn.org/stable/modules/svm.html)\n",
        "*  [SVM con Python](https://www.cienciadedatos.net/documentos/py24-svm-python.html) \n",
        "*  [In-Depth: SVM](https://jakevdp.github.io/PythonDataScienceHandbook/05.07-support-vector-machines.html)\n",
        "*  **Sección 8.6 Libro Guia**\n",
        "*  [Parametros SVC](https://scikit-learn.org/stable/modules/generated/sklearn.svm.SVC.html#sklearn.svm.SVC)\n",
        "*  [Ideas (Ejemplo Juguete)](https://unipython.com/svc-lineal-machine-learning/)\n",
        "*  [Guias Matplolib](https://claudiovz.github.io/scipy-lecture-notes-ES/intro/matplotlib/matplotlib.html#graficos-3d)\n",
        "*  [Explicación Hiperbasica](https://www.iartificial.net/maquinas-de-vectores-de-soporte-svm/#:~:text=El%20truco%20del%20kernel%20en%20SVM,-Hay%20veces%20en&text=El%20truco%20del%20kernel%20consiste,con%20una%20superficie%20de%20decisi%C3%B3n.)\n",
        "*  [Analisis de algoritmos de Aprendizaje](https://eprints.ucm.es/id/eprint/48800/1/Memoria%20TFM%20Machine%20Learning_Juan_Zamorano_para_difundir%20(2).pdf) \n",
        "*  [Metrics and Scoring](https://scikit-learn.org/stable/modules/model_evaluation.html)\n",
        "*  [Parametros SVC](https://scikit-learn.org/stable/modules/generated/sklearn.svm.SVC.html)"
      ]
    },
    {
      "cell_type": "markdown",
      "metadata": {
        "id": "iKt7jXz8-S6H"
      },
      "source": [
        "## Herramientas de tratamiento de datos con Pandas"
      ]
    },
    {
      "cell_type": "code",
      "execution_count": 3,
      "metadata": {
        "colab": {
          "base_uri": "https://localhost:8080/",
          "height": 408
        },
        "id": "P8zg5pgiSu0S",
        "outputId": "9a4b45d6-f7b7-40bb-efc9-9942e9ceebaa"
      },
      "outputs": [
        {
          "data": {
            "text/html": [
              "<div>\n",
              "<style scoped>\n",
              "    .dataframe tbody tr th:only-of-type {\n",
              "        vertical-align: middle;\n",
              "    }\n",
              "\n",
              "    .dataframe tbody tr th {\n",
              "        vertical-align: top;\n",
              "    }\n",
              "\n",
              "    .dataframe thead th {\n",
              "        text-align: right;\n",
              "    }\n",
              "</style>\n",
              "<table border=\"1\" class=\"dataframe\">\n",
              "  <thead>\n",
              "    <tr style=\"text-align: right;\">\n",
              "      <th></th>\n",
              "      <th>Age</th>\n",
              "      <th>Workclass</th>\n",
              "      <th>fnlwgt</th>\n",
              "      <th>Education</th>\n",
              "      <th>Education-num</th>\n",
              "      <th>Marital-Status</th>\n",
              "      <th>Occupation</th>\n",
              "      <th>Relationship</th>\n",
              "      <th>Race</th>\n",
              "      <th>Sex</th>\n",
              "      <th>Capital-gain</th>\n",
              "      <th>Capital-loss</th>\n",
              "      <th>Hours-per-Week</th>\n",
              "      <th>Native-Country</th>\n",
              "      <th>Capital</th>\n",
              "    </tr>\n",
              "  </thead>\n",
              "  <tbody>\n",
              "    <tr>\n",
              "      <th>0</th>\n",
              "      <td>39</td>\n",
              "      <td>State-gov</td>\n",
              "      <td>77516</td>\n",
              "      <td>Bachelors</td>\n",
              "      <td>13</td>\n",
              "      <td>Never-married</td>\n",
              "      <td>Adm-clerical</td>\n",
              "      <td>Not-in-family</td>\n",
              "      <td>White</td>\n",
              "      <td>Male</td>\n",
              "      <td>2174</td>\n",
              "      <td>0</td>\n",
              "      <td>40</td>\n",
              "      <td>United-States</td>\n",
              "      <td>&lt;=50K</td>\n",
              "    </tr>\n",
              "    <tr>\n",
              "      <th>1</th>\n",
              "      <td>50</td>\n",
              "      <td>Self-emp-not-inc</td>\n",
              "      <td>83311</td>\n",
              "      <td>Bachelors</td>\n",
              "      <td>13</td>\n",
              "      <td>Married-civ-spouse</td>\n",
              "      <td>Exec-managerial</td>\n",
              "      <td>Husband</td>\n",
              "      <td>White</td>\n",
              "      <td>Male</td>\n",
              "      <td>0</td>\n",
              "      <td>0</td>\n",
              "      <td>13</td>\n",
              "      <td>United-States</td>\n",
              "      <td>&lt;=50K</td>\n",
              "    </tr>\n",
              "    <tr>\n",
              "      <th>2</th>\n",
              "      <td>38</td>\n",
              "      <td>Private</td>\n",
              "      <td>215646</td>\n",
              "      <td>HS-grad</td>\n",
              "      <td>9</td>\n",
              "      <td>Divorced</td>\n",
              "      <td>Handlers-cleaners</td>\n",
              "      <td>Not-in-family</td>\n",
              "      <td>White</td>\n",
              "      <td>Male</td>\n",
              "      <td>0</td>\n",
              "      <td>0</td>\n",
              "      <td>40</td>\n",
              "      <td>United-States</td>\n",
              "      <td>&lt;=50K</td>\n",
              "    </tr>\n",
              "    <tr>\n",
              "      <th>3</th>\n",
              "      <td>53</td>\n",
              "      <td>Private</td>\n",
              "      <td>234721</td>\n",
              "      <td>11th</td>\n",
              "      <td>7</td>\n",
              "      <td>Married-civ-spouse</td>\n",
              "      <td>Handlers-cleaners</td>\n",
              "      <td>Husband</td>\n",
              "      <td>Black</td>\n",
              "      <td>Male</td>\n",
              "      <td>0</td>\n",
              "      <td>0</td>\n",
              "      <td>40</td>\n",
              "      <td>United-States</td>\n",
              "      <td>&lt;=50K</td>\n",
              "    </tr>\n",
              "    <tr>\n",
              "      <th>4</th>\n",
              "      <td>28</td>\n",
              "      <td>Private</td>\n",
              "      <td>338409</td>\n",
              "      <td>Bachelors</td>\n",
              "      <td>13</td>\n",
              "      <td>Married-civ-spouse</td>\n",
              "      <td>Prof-specialty</td>\n",
              "      <td>Wife</td>\n",
              "      <td>Black</td>\n",
              "      <td>Female</td>\n",
              "      <td>0</td>\n",
              "      <td>0</td>\n",
              "      <td>40</td>\n",
              "      <td>Cuba</td>\n",
              "      <td>&lt;=50K</td>\n",
              "    </tr>\n",
              "    <tr>\n",
              "      <th>5</th>\n",
              "      <td>37</td>\n",
              "      <td>Private</td>\n",
              "      <td>284582</td>\n",
              "      <td>Masters</td>\n",
              "      <td>14</td>\n",
              "      <td>Married-civ-spouse</td>\n",
              "      <td>Exec-managerial</td>\n",
              "      <td>Wife</td>\n",
              "      <td>White</td>\n",
              "      <td>Female</td>\n",
              "      <td>0</td>\n",
              "      <td>0</td>\n",
              "      <td>40</td>\n",
              "      <td>United-States</td>\n",
              "      <td>&lt;=50K</td>\n",
              "    </tr>\n",
              "    <tr>\n",
              "      <th>6</th>\n",
              "      <td>49</td>\n",
              "      <td>Private</td>\n",
              "      <td>160187</td>\n",
              "      <td>9th</td>\n",
              "      <td>5</td>\n",
              "      <td>Married-spouse-absent</td>\n",
              "      <td>Other-service</td>\n",
              "      <td>Not-in-family</td>\n",
              "      <td>Black</td>\n",
              "      <td>Female</td>\n",
              "      <td>0</td>\n",
              "      <td>0</td>\n",
              "      <td>16</td>\n",
              "      <td>Jamaica</td>\n",
              "      <td>&lt;=50K</td>\n",
              "    </tr>\n",
              "    <tr>\n",
              "      <th>7</th>\n",
              "      <td>52</td>\n",
              "      <td>Self-emp-not-inc</td>\n",
              "      <td>209642</td>\n",
              "      <td>HS-grad</td>\n",
              "      <td>9</td>\n",
              "      <td>Married-civ-spouse</td>\n",
              "      <td>Exec-managerial</td>\n",
              "      <td>Husband</td>\n",
              "      <td>White</td>\n",
              "      <td>Male</td>\n",
              "      <td>0</td>\n",
              "      <td>0</td>\n",
              "      <td>45</td>\n",
              "      <td>United-States</td>\n",
              "      <td>&gt;50K</td>\n",
              "    </tr>\n",
              "    <tr>\n",
              "      <th>8</th>\n",
              "      <td>31</td>\n",
              "      <td>Private</td>\n",
              "      <td>45781</td>\n",
              "      <td>Masters</td>\n",
              "      <td>14</td>\n",
              "      <td>Never-married</td>\n",
              "      <td>Prof-specialty</td>\n",
              "      <td>Not-in-family</td>\n",
              "      <td>White</td>\n",
              "      <td>Female</td>\n",
              "      <td>14084</td>\n",
              "      <td>0</td>\n",
              "      <td>50</td>\n",
              "      <td>United-States</td>\n",
              "      <td>&gt;50K</td>\n",
              "    </tr>\n",
              "    <tr>\n",
              "      <th>9</th>\n",
              "      <td>42</td>\n",
              "      <td>Private</td>\n",
              "      <td>159449</td>\n",
              "      <td>Bachelors</td>\n",
              "      <td>13</td>\n",
              "      <td>Married-civ-spouse</td>\n",
              "      <td>Exec-managerial</td>\n",
              "      <td>Husband</td>\n",
              "      <td>White</td>\n",
              "      <td>Male</td>\n",
              "      <td>5178</td>\n",
              "      <td>0</td>\n",
              "      <td>40</td>\n",
              "      <td>United-States</td>\n",
              "      <td>&gt;50K</td>\n",
              "    </tr>\n",
              "  </tbody>\n",
              "</table>\n",
              "</div>"
            ],
            "text/plain": [
              "   Age          Workclass  fnlwgt   Education  Education-num  \\\n",
              "0   39          State-gov   77516   Bachelors             13   \n",
              "1   50   Self-emp-not-inc   83311   Bachelors             13   \n",
              "2   38            Private  215646     HS-grad              9   \n",
              "3   53            Private  234721        11th              7   \n",
              "4   28            Private  338409   Bachelors             13   \n",
              "5   37            Private  284582     Masters             14   \n",
              "6   49            Private  160187         9th              5   \n",
              "7   52   Self-emp-not-inc  209642     HS-grad              9   \n",
              "8   31            Private   45781     Masters             14   \n",
              "9   42            Private  159449   Bachelors             13   \n",
              "\n",
              "           Marital-Status          Occupation    Relationship    Race  \\\n",
              "0           Never-married        Adm-clerical   Not-in-family   White   \n",
              "1      Married-civ-spouse     Exec-managerial         Husband   White   \n",
              "2                Divorced   Handlers-cleaners   Not-in-family   White   \n",
              "3      Married-civ-spouse   Handlers-cleaners         Husband   Black   \n",
              "4      Married-civ-spouse      Prof-specialty            Wife   Black   \n",
              "5      Married-civ-spouse     Exec-managerial            Wife   White   \n",
              "6   Married-spouse-absent       Other-service   Not-in-family   Black   \n",
              "7      Married-civ-spouse     Exec-managerial         Husband   White   \n",
              "8           Never-married      Prof-specialty   Not-in-family   White   \n",
              "9      Married-civ-spouse     Exec-managerial         Husband   White   \n",
              "\n",
              "       Sex  Capital-gain  Capital-loss  Hours-per-Week  Native-Country Capital  \n",
              "0     Male          2174             0              40   United-States   <=50K  \n",
              "1     Male             0             0              13   United-States   <=50K  \n",
              "2     Male             0             0              40   United-States   <=50K  \n",
              "3     Male             0             0              40   United-States   <=50K  \n",
              "4   Female             0             0              40            Cuba   <=50K  \n",
              "5   Female             0             0              40   United-States   <=50K  \n",
              "6   Female             0             0              16         Jamaica   <=50K  \n",
              "7     Male             0             0              45   United-States    >50K  \n",
              "8   Female         14084             0              50   United-States    >50K  \n",
              "9     Male          5178             0              40   United-States    >50K  "
            ]
          },
          "execution_count": 3,
          "metadata": {},
          "output_type": "execute_result"
        }
      ],
      "source": [
        "#Data Frame Completo, no traia la primera fila de descripcion por columnas se la agregue yo a mano\n",
        "columns = ['Age', 'Workclass','fnlwgt', 'Education', 'Education-num','Marital-Status','Occupation', 'Relationship', 'Race', 'Sex', 'Capital-gain', 'Capital-loss', 'Hours-per-Week','Native-Country', 'Capital']\n",
        "DataF = pd.read_csv(r'C:\\Users\\ASUS\\Desktop\\Examples SVM\\Adult Classification\\Data\\adult_data.csv', names=columns) \n",
        "\n",
        "DataF.head(10)"
      ]
    },
    {
      "cell_type": "code",
      "execution_count": 4,
      "metadata": {
        "id": "PZ2upUrjzGz6"
      },
      "outputs": [],
      "source": [
        "#Limpieza de datos\n",
        "\n",
        "DataF.dropna(inplace= True) #Elimina Filas con NaN\n",
        "#DataF.fillna(0) #Cambia NaN por variable, podeos hacerlo por columnas con  ({\"Name1\": 0,\"Name2\":-1})"
      ]
    },
    {
      "cell_type": "code",
      "execution_count": 5,
      "metadata": {
        "id": "TjTUzAyL4tAH"
      },
      "outputs": [],
      "source": [
        "#Filtrado de datos\n",
        "\n",
        "#DataF[\"Native-Contry\"] #Filtrar por Columnas mediante nombre\n",
        "#DataF[[\"Sex\",\"Race\",\"Capital\"]] #Formato para varias columnas\n",
        "\n",
        "#DataF.iloc[0:12] #Filtrado por filas [0] para unicas, [0:11] Rango,[[1,3,5,7]] Multiples (.loc filtra por identificadores, que en esta base de datos no se tienen)\n",
        "\n",
        "#DataF.loc[[1,5],[\"Sex\",\"Race\",\"Capital\"]] #Filtrado Mixto\n",
        "\n",
        "#Filtrado por condiciones\n",
        "\n",
        "#DataF[DataF[\"Education-num\"] >8]\n",
        "#DataF[(DataF[\"Education-num\"] >8)&(DataF[\"Hours-per-Week\"] == 40)] # And &, Or |\n",
        "\n",
        "#DataF[DataF[\"Native-Country\"].str.contains(\"Cuba\")]"
      ]
    },
    {
      "cell_type": "code",
      "execution_count": 6,
      "metadata": {
        "colab": {
          "base_uri": "https://localhost:8080/",
          "height": 408
        },
        "id": "9F_r5TXJ-32b",
        "outputId": "a76cc627-41db-44ae-af8a-1d9b20fa4410"
      },
      "outputs": [
        {
          "data": {
            "text/html": [
              "<div>\n",
              "<style scoped>\n",
              "    .dataframe tbody tr th:only-of-type {\n",
              "        vertical-align: middle;\n",
              "    }\n",
              "\n",
              "    .dataframe tbody tr th {\n",
              "        vertical-align: top;\n",
              "    }\n",
              "\n",
              "    .dataframe thead th {\n",
              "        text-align: right;\n",
              "    }\n",
              "</style>\n",
              "<table border=\"1\" class=\"dataframe\">\n",
              "  <thead>\n",
              "    <tr style=\"text-align: right;\">\n",
              "      <th></th>\n",
              "      <th>Age</th>\n",
              "      <th>Workclass</th>\n",
              "      <th>fnlwgt</th>\n",
              "      <th>Education</th>\n",
              "      <th>Education-num</th>\n",
              "      <th>Marital-Status</th>\n",
              "      <th>Occupation</th>\n",
              "      <th>Relationship</th>\n",
              "      <th>Race</th>\n",
              "      <th>Sex</th>\n",
              "      <th>Capital-gain</th>\n",
              "      <th>Capital-loss</th>\n",
              "      <th>Hours-per-Week</th>\n",
              "      <th>Native-Country</th>\n",
              "      <th>Capital</th>\n",
              "      <th>Capital-Indicator</th>\n",
              "      <th>ToyCol</th>\n",
              "    </tr>\n",
              "  </thead>\n",
              "  <tbody>\n",
              "    <tr>\n",
              "      <th>0</th>\n",
              "      <td>39</td>\n",
              "      <td>State-gov</td>\n",
              "      <td>77516</td>\n",
              "      <td>Bachelors</td>\n",
              "      <td>13</td>\n",
              "      <td>Never-married</td>\n",
              "      <td>Adm-clerical</td>\n",
              "      <td>Not-in-family</td>\n",
              "      <td>White</td>\n",
              "      <td>Male</td>\n",
              "      <td>2174</td>\n",
              "      <td>0</td>\n",
              "      <td>40</td>\n",
              "      <td>United-States</td>\n",
              "      <td>&lt;=50K</td>\n",
              "      <td>-1</td>\n",
              "      <td>880</td>\n",
              "    </tr>\n",
              "    <tr>\n",
              "      <th>1</th>\n",
              "      <td>50</td>\n",
              "      <td>Self-emp-not-inc</td>\n",
              "      <td>83311</td>\n",
              "      <td>Bachelors</td>\n",
              "      <td>13</td>\n",
              "      <td>Married-civ-spouse</td>\n",
              "      <td>Exec-managerial</td>\n",
              "      <td>Husband</td>\n",
              "      <td>White</td>\n",
              "      <td>Male</td>\n",
              "      <td>0</td>\n",
              "      <td>0</td>\n",
              "      <td>13</td>\n",
              "      <td>United-States</td>\n",
              "      <td>&lt;=50K</td>\n",
              "      <td>-1</td>\n",
              "      <td>429</td>\n",
              "    </tr>\n",
              "    <tr>\n",
              "      <th>2</th>\n",
              "      <td>38</td>\n",
              "      <td>Private</td>\n",
              "      <td>215646</td>\n",
              "      <td>HS-grad</td>\n",
              "      <td>9</td>\n",
              "      <td>Divorced</td>\n",
              "      <td>Handlers-cleaners</td>\n",
              "      <td>Not-in-family</td>\n",
              "      <td>White</td>\n",
              "      <td>Male</td>\n",
              "      <td>0</td>\n",
              "      <td>0</td>\n",
              "      <td>40</td>\n",
              "      <td>United-States</td>\n",
              "      <td>&lt;=50K</td>\n",
              "      <td>-1</td>\n",
              "      <td>840</td>\n",
              "    </tr>\n",
              "    <tr>\n",
              "      <th>3</th>\n",
              "      <td>53</td>\n",
              "      <td>Private</td>\n",
              "      <td>234721</td>\n",
              "      <td>11th</td>\n",
              "      <td>7</td>\n",
              "      <td>Married-civ-spouse</td>\n",
              "      <td>Handlers-cleaners</td>\n",
              "      <td>Husband</td>\n",
              "      <td>Black</td>\n",
              "      <td>Male</td>\n",
              "      <td>0</td>\n",
              "      <td>0</td>\n",
              "      <td>40</td>\n",
              "      <td>United-States</td>\n",
              "      <td>&lt;=50K</td>\n",
              "      <td>-1</td>\n",
              "      <td>1440</td>\n",
              "    </tr>\n",
              "    <tr>\n",
              "      <th>4</th>\n",
              "      <td>28</td>\n",
              "      <td>Private</td>\n",
              "      <td>338409</td>\n",
              "      <td>Bachelors</td>\n",
              "      <td>13</td>\n",
              "      <td>Married-civ-spouse</td>\n",
              "      <td>Prof-specialty</td>\n",
              "      <td>Wife</td>\n",
              "      <td>Black</td>\n",
              "      <td>Female</td>\n",
              "      <td>0</td>\n",
              "      <td>0</td>\n",
              "      <td>40</td>\n",
              "      <td>Cuba</td>\n",
              "      <td>&lt;=50K</td>\n",
              "      <td>-1</td>\n",
              "      <td>440</td>\n",
              "    </tr>\n",
              "  </tbody>\n",
              "</table>\n",
              "</div>"
            ],
            "text/plain": [
              "   Age          Workclass  fnlwgt   Education  Education-num  \\\n",
              "0   39          State-gov   77516   Bachelors             13   \n",
              "1   50   Self-emp-not-inc   83311   Bachelors             13   \n",
              "2   38            Private  215646     HS-grad              9   \n",
              "3   53            Private  234721        11th              7   \n",
              "4   28            Private  338409   Bachelors             13   \n",
              "\n",
              "        Marital-Status          Occupation    Relationship    Race      Sex  \\\n",
              "0        Never-married        Adm-clerical   Not-in-family   White     Male   \n",
              "1   Married-civ-spouse     Exec-managerial         Husband   White     Male   \n",
              "2             Divorced   Handlers-cleaners   Not-in-family   White     Male   \n",
              "3   Married-civ-spouse   Handlers-cleaners         Husband   Black     Male   \n",
              "4   Married-civ-spouse      Prof-specialty            Wife   Black   Female   \n",
              "\n",
              "   Capital-gain  Capital-loss  Hours-per-Week  Native-Country Capital  \\\n",
              "0          2174             0              40   United-States   <=50K   \n",
              "1             0             0              13   United-States   <=50K   \n",
              "2             0             0              40   United-States   <=50K   \n",
              "3             0             0              40   United-States   <=50K   \n",
              "4             0             0              40            Cuba   <=50K   \n",
              "\n",
              "   Capital-Indicator  ToyCol  \n",
              "0                 -1     880  \n",
              "1                 -1     429  \n",
              "2                 -1     840  \n",
              "3                 -1    1440  \n",
              "4                 -1     440  "
            ]
          },
          "execution_count": 6,
          "metadata": {},
          "output_type": "execute_result"
        }
      ],
      "source": [
        "#Funciones\n",
        "\n",
        "#Una variable (Por columnas)\n",
        "def CapitalIndicator(Capital):\n",
        "  if (\"<\" in Capital):\n",
        "    return (-1)\n",
        "  if (\">\" in Capital):\n",
        "    return (1)\n",
        "\n",
        "#Podemos definir funciones y crear nuevas columnas con datos generados a partir de los datos ya existentes\n",
        "DataF[\"Capital-Indicator\"] = DataF[\"Capital\"].apply(CapitalIndicator) #Se trasforman la información en capital en un indicador numerico\n",
        "\n",
        "#Varias variebles (Por Filas)\n",
        "def ToyFunction(fila):\n",
        "  return (fila[\"Hours-per-Week\"]*(fila[\"Age\"]-17))\n",
        "\n",
        "DataF[\"ToyCol\"] = DataF.apply(ToyFunction, axis=1)\n",
        "\n",
        "DataF.head()"
      ]
    },
    {
      "cell_type": "code",
      "execution_count": 7,
      "metadata": {
        "colab": {
          "base_uri": "https://localhost:8080/",
          "height": 230
        },
        "id": "b2lfpekzGP1a",
        "outputId": "04682ec6-5b76-4ad4-fac1-b6c5c14ca756"
      },
      "outputs": [
        {
          "data": {
            "text/html": [
              "<div>\n",
              "<style scoped>\n",
              "    .dataframe tbody tr th:only-of-type {\n",
              "        vertical-align: middle;\n",
              "    }\n",
              "\n",
              "    .dataframe tbody tr th {\n",
              "        vertical-align: top;\n",
              "    }\n",
              "\n",
              "    .dataframe thead th {\n",
              "        text-align: right;\n",
              "    }\n",
              "</style>\n",
              "<table border=\"1\" class=\"dataframe\">\n",
              "  <thead>\n",
              "    <tr style=\"text-align: right;\">\n",
              "      <th></th>\n",
              "      <th>Education-num</th>\n",
              "      <th>Hours-per-Week</th>\n",
              "    </tr>\n",
              "    <tr>\n",
              "      <th>Race</th>\n",
              "      <th></th>\n",
              "      <th></th>\n",
              "    </tr>\n",
              "  </thead>\n",
              "  <tbody>\n",
              "    <tr>\n",
              "      <th>Amer-Indian-Eskimo</th>\n",
              "      <td>9.311897</td>\n",
              "      <td>84</td>\n",
              "    </tr>\n",
              "    <tr>\n",
              "      <th>Asian-Pac-Islander</th>\n",
              "      <td>10.960539</td>\n",
              "      <td>99</td>\n",
              "    </tr>\n",
              "    <tr>\n",
              "      <th>Black</th>\n",
              "      <td>9.486236</td>\n",
              "      <td>99</td>\n",
              "    </tr>\n",
              "    <tr>\n",
              "      <th>Other</th>\n",
              "      <td>8.841328</td>\n",
              "      <td>98</td>\n",
              "    </tr>\n",
              "    <tr>\n",
              "      <th>White</th>\n",
              "      <td>10.135246</td>\n",
              "      <td>99</td>\n",
              "    </tr>\n",
              "  </tbody>\n",
              "</table>\n",
              "</div>"
            ],
            "text/plain": [
              "                     Education-num  Hours-per-Week\n",
              "Race                                              \n",
              " Amer-Indian-Eskimo       9.311897              84\n",
              " Asian-Pac-Islander      10.960539              99\n",
              " Black                    9.486236              99\n",
              " Other                    8.841328              98\n",
              " White                   10.135246              99"
            ]
          },
          "execution_count": 7,
          "metadata": {},
          "output_type": "execute_result"
        }
      ],
      "source": [
        "DataF.groupby(\"Race\").agg({\n",
        "           \"Education-num\": \"mean\",\n",
        "          \"Hours-per-Week\": \"max\",})"
      ]
    },
    {
      "cell_type": "code",
      "execution_count": 8,
      "metadata": {
        "id": "pWAz1jTxKcIz"
      },
      "outputs": [],
      "source": [
        "#Guardar Data Frame\n",
        "\n",
        "#Name.to_csv(\"FileName\")"
      ]
    },
    {
      "cell_type": "markdown",
      "metadata": {
        "id": "_KOjhGqwvjR0"
      },
      "source": [
        "#### Descripcion de las variables"
      ]
    },
    {
      "cell_type": "markdown",
      "metadata": {
        "id": "imnunV1giO6E"
      },
      "source": [
        "**age**: continuous.\n",
        "\n",
        "**workclass**: Private, Self-emp-not-inc, Self-emp-inc, Federal-gov, Local-gov, State-gov, Without-pay, Never-worked.\n",
        "\n",
        "**fnlwgt**: continuous.\n",
        "\n",
        "**education**: Bachelors, Some-college, 11th, HS-grad, Prof-school, Assoc-acdm, Assoc-voc, 9th, 7th-8th, 12th, Masters, 1st-4th, 10th, Doctorate, 5th-6th, Preschool.\n",
        "\n",
        "**education-num**: continuous.\n",
        "\n",
        "**marital-status**: Married-civ-spouse, Divorced, Never-married, Separated, Widowed, Married-spouse-absent, Married-AF-spouse.\n",
        "\n",
        "**occupation**: Tech-support, Craft-repair, Other-service, Sales, Exec-managerial, Prof-specialty, Handlers-cleaners, Machine-op-inspct, Adm-clerical, Farming-fishing, Transport-moving, Priv-house-serv, Protective-serv, Armed-Forces.\n",
        "\n",
        "**relationship**: Wife, Own-child, Husband, Not-in-family, Other-relative, Unmarried.\n",
        "\n",
        "**race**: White, Asian-Pac-Islander, Amer-Indian-Eskimo, Other, Black.\n",
        "\n",
        "**sex**: Female, Male.\n",
        "\n",
        "**capital-gain**: continuous.\n",
        "\n",
        "**capital-loss**: continuous.\n",
        "\n",
        "**hours-per-week**: continuous.\n",
        "\n",
        "**native-country**: United-States, Cambodia, England, Puerto-Rico, Canada, Germany, Outlying-US(Guam-USVI-etc), India, Japan, Greece, South, China, Cuba, Iran, Honduras, Philippines, Italy, Poland, Jamaica, Vietnam, Mexico, Portugal, Ireland, France, Dominican-Republic, Laos, Ecuador, Taiwan, Haiti, Columbia, Hungary, Guatemala, Nicaragua, Scotland, Thailand, Yugoslavia, El-Salvador, Trinadad&Tobago, Peru, Hong, Holand-Netherlands."
      ]
    },
    {
      "cell_type": "markdown",
      "metadata": {
        "id": "zDlCgvBYEMJG"
      },
      "source": [
        "\n",
        "![WhatsApp Image 2021-05-05 at 2.49.19 PM.jpeg](data:image/jpeg;base64,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)"
      ]
    },
    {
      "cell_type": "markdown",
      "metadata": {
        "id": "7o1UwSVAvFWc"
      },
      "source": [
        "# Signo de un Producto (Aplicacion de Juguete)"
      ]
    },
    {
      "cell_type": "code",
      "execution_count": 9,
      "metadata": {
        "colab": {
          "base_uri": "https://localhost:8080/"
        },
        "id": "BOXO_dEwe1Ef",
        "outputId": "4bf1e956-35da-4563-b0dd-90135c3ef6c0"
      },
      "outputs": [
        {
          "data": {
            "text/plain": [
              "'\\nEl Kernel separa los datos \"agregando\" una dimension a estos, sobre el cual si es posible encontrar un plano soporte que separe los datos, en general ese aumento de dimesion se ahorra\\nusando el Kernel de la funcion que se usa para hacer este \"aumento de dimension\", por dfault se usara el kernel de la funcion de base radial (RBF) [exp()], que funciona teoricamente en compactos\\ny en la practica en (virtualmente) todos los casos\\n'"
            ]
          },
          "execution_count": 9,
          "metadata": {},
          "output_type": "execute_result"
        }
      ],
      "source": [
        "#Seudo base de datos que asocia un producto con su Signo, siendo -1 (Negativo) y 1 (Positivo) los posibles valores.\n",
        "X=[[1,1],[1,-1],[-1,1],[-1,-1],[10,10],[10,-10],[-10,10],[-10,-10],[100,100],[100,-100],[-100,100],[-100,-100],[1000,1000],[1000,-1000],[-1000,1000],[-1000,-1000],[10000,10000],[10000,-10000],[-10000,10000],[-10000,-10000]]\n",
        "y=[1,-1,-1,1,1,-1,-1,1,1,-1,-1,1,1,-1,-1,1,1,-1,-1,1]\n",
        "\n",
        "#Entrenamiento  de una SVM de clasificacion con los valores estandar de la libreria Sklearn\n",
        "clf = svm.SVC()\n",
        "clf.fit(X, y)\n",
        "\n",
        "\"\"\"\n",
        "El Kernel separa los datos \"agregando\" una dimension a estos, sobre el cual si es posible encontrar un plano soporte que separe los datos, en general ese aumento de dimesion se ahorra\n",
        "usando el Kernel de la funcion que se usa para hacer este \"aumento de dimension\", por dfault se usara el kernel de la funcion de base radial (RBF) [exp()], que funciona teoricamente en compactos\n",
        "y en la practica en (virtualmente) todos los casos\n",
        "\"\"\"\n",
        "\n",
        "\n",
        "#IMPORTANTE LEER SOBRE LAS VARIABLES DE LA FUNCION SVC"
      ]
    },
    {
      "cell_type": "code",
      "execution_count": 10,
      "metadata": {
        "colab": {
          "base_uri": "https://localhost:8080/"
        },
        "id": "IwGNu6XLqTCE",
        "outputId": "1fc34c6e-4558-497c-900a-048c3cd9b1db"
      },
      "outputs": [
        {
          "data": {
            "image/png": "[encoded data removed]",
            "text/plain": [
              "<Figure size 720x720 with 1 Axes>"
            ]
          },
          "metadata": {
            "needs_background": "light"
          },
          "output_type": "display_data"
        }
      ],
      "source": [
        "#Graficar los datos separando por color negativos y positivos\n",
        "p1= []\n",
        "p2= []\n",
        "x1= []\n",
        "x2= []\n",
        "\n",
        "np.append(p1,X[0][0])\n",
        "\n",
        "for i in range(len(X)):\n",
        "  if y[i] ==1:\n",
        "    p1.append(X[i][0])\n",
        "    x1.append(X[i][1])\n",
        "  else:\n",
        "    p2.append(X[i][0])\n",
        "    x2.append(X[i][1])\n",
        "\n",
        "\n",
        "plt.figure(figsize=(10, 10))\n",
        "plt.plot(x1, p1, 'ro',label='Producto Positivos')\n",
        "plt.plot( x2, p2, 'bo',label='Producto Negativos')\n",
        "legend = plt.legend(loc='upper left', shadow=True, fontsize='x-large')\n",
        "plt.show()\n",
        "\n",
        "#En este cado la SVC tuvo que usar Kernel, por la distribucion de los datos\n",
        "#Quiero hacer otro ejemplo en el que no tenga que usar Kernel (Aun mas de Juguete)"
      ]
    },
    {
      "cell_type": "code",
      "execution_count": 11,
      "metadata": {
        "colab": {
          "base_uri": "https://localhost:8080/"
        },
        "id": "IzssusKggvoP",
        "outputId": "7b01a63f-620a-4284-deb7-60b5b529b610"
      },
      "outputs": [
        {
          "data": {
            "text/plain": [
              "array([-1])"
            ]
          },
          "execution_count": 11,
          "metadata": {},
          "output_type": "execute_result"
        }
      ],
      "source": [
        "#En este caso por la forma de los datos solo funciona bien para valores |x|<100001\n",
        "\n",
        "clf.predict([[862, -567]])"
      ]
    },
    {
      "cell_type": "markdown",
      "metadata": {
        "id": "FlNpXd3auqYk"
      },
      "source": [
        "# Segmentacion Salarial"
      ]
    },
    {
      "cell_type": "markdown",
      "metadata": {
        "id": "EnVChZu7h22B"
      },
      "source": [
        "## Base de Datos Depurada\n",
        "\n",
        "\n"
      ]
    },
    {
      "cell_type": "markdown",
      "metadata": {
        "id": "3Yz59Vd4oRjW"
      },
      "source": [
        "### Funciones para el Procesamiento:"
      ]
    },
    {
      "cell_type": "code",
      "execution_count": 12,
      "metadata": {
        "id": "Eo7Delgnob95"
      },
      "outputs": [],
      "source": [
        "# WorkClass (Descriptiva)-->Tipo de Trabajo (Indicador Numerico)\n",
        "def ClassToType (Workclass):\n",
        "  #Workclass = str (WC)\n",
        "  if (\"Private\" in Workclass):\n",
        "    return (1)\n",
        "  if (\"Self-emp-not-inc\" in Workclass):\n",
        "    return (2)\n",
        "  if (\"Self-emp-inc\" in Workclass):\n",
        "    return (3)\n",
        "  if (\"Federal-gov\" in Workclass):\n",
        "    return (4)\n",
        "  if (\"Local-gov\" in Workclass):\n",
        "    return (5)\n",
        "  if (\"State-gov\" in Workclass):\n",
        "    return (6)\n",
        "  if (\"Without-pay\" in Workclass):\n",
        "    return (7)\n",
        "  if (\"Never-worked\" in Workclass):\n",
        "    return (8)\n",
        "  else:\n",
        "    return (0)"
      ]
    },
    {
      "cell_type": "code",
      "execution_count": 13,
      "metadata": {
        "id": "2ettSxWrmvIZ"
      },
      "outputs": [],
      "source": [
        "# Marital-status (Descriptiva)-->Estado Civil (Indicador Numerico)\n",
        "def StatusToType (X):\n",
        "  #Workclass = str (WC)\n",
        "  if (\"Married-civ-spouse\" in X):\n",
        "    return (1)\n",
        "  if (\"Divorced\" in X):\n",
        "    return (2)\n",
        "  if (\"Never-married\" in X):\n",
        "    return (3)\n",
        "  if (\"Separated\" in X):\n",
        "    return (4)\n",
        "  if (\"Widowed\" in X):\n",
        "    return (5)\n",
        "  if (\"Married-spouse-absent\" in X):\n",
        "    return (6)\n",
        "  if (\"Married-AF-spouse\" in X):\n",
        "    return (7)\n",
        "  else:\n",
        "    return (0)"
      ]
    },
    {
      "cell_type": "code",
      "execution_count": 14,
      "metadata": {
        "id": "vWcBne2BotKO"
      },
      "outputs": [],
      "source": [
        "# occupation (Descriptiva)-->Ocupación (Indicador Numerico)\n",
        "def OcupToType(X):\n",
        "  #Workclass = str (WC)\n",
        "  if (\"Tech-support\" in X):\n",
        "    return (1)\n",
        "  if (\"Craft-repair\" in X):\n",
        "    return (2)\n",
        "  if (\"Other-service\" in X):\n",
        "    return (3)\n",
        "  if (\"Sales\" in X):\n",
        "    return (4)\n",
        "  if (\"Exec-managerial\" in X):\n",
        "    return (5)\n",
        "  if (\"Prof-specialty\" in X):\n",
        "    return (6)\n",
        "  if (\"Handlers-cleaners\" in X):\n",
        "    return (7)\n",
        "  if (\"Machine-op-inspct\" in X):\n",
        "    return (8)\n",
        "  if (\"Adm-clerical\" in X):\n",
        "    return (9)\n",
        "  if (\"Farming-fishing\" in X):\n",
        "    return (10)\n",
        "  if (\"Transport-moving\" in X):\n",
        "    return (11)\n",
        "  if (\"Priv-house-serv\" in X):\n",
        "    return (12)\n",
        "  if (\"Protective-serv\" in X):\n",
        "    return (13)\n",
        "  if (\"Armed-Forces\" in X):\n",
        "    return (14)\n",
        "  else:\n",
        "    return (0)\n"
      ]
    },
    {
      "cell_type": "code",
      "execution_count": 15,
      "metadata": {
        "id": "hyIByL8ysgX-"
      },
      "outputs": [],
      "source": [
        "# relationship (Descriptiva)-->Tipo de Pareja (Indicador Numerico)\n",
        "def RelationToType (X):\n",
        "  #Workclass = str (WC)\n",
        "  if (\"Wife\" in X):\n",
        "    return (1)\n",
        "  if (\"Own-child\" in X):\n",
        "    return (2)\n",
        "  if (\"Husband\" in X):\n",
        "    return (3)\n",
        "  if (\"Not-in-family\" in X):\n",
        "    return (4)\n",
        "  if (\"Other-relative\" in X):\n",
        "    return (5)\n",
        "  if (\"Unmarried\" in X):\n",
        "    return (6)\n",
        "  else:\n",
        "    return (0)"
      ]
    },
    {
      "cell_type": "code",
      "execution_count": 16,
      "metadata": {
        "id": "2dt8jwWzt-J0"
      },
      "outputs": [],
      "source": [
        "# Race(Descriptiva)-->Raza (Indicador Numerico)\n",
        "def RaceToType (X):\n",
        "  #Workclass = str (WC)\n",
        "  if (\"White\" in X):\n",
        "    return (1)\n",
        "  if (\"Asian-Pac-Islander\" in X):\n",
        "    return (2)\n",
        "  if (\"Amer-Indian-Eskimo\" in X):\n",
        "    return (3)\n",
        "  if (\"Black\" in X):\n",
        "    return (4)\n",
        "  if (\"Other\" in X):\n",
        "    return (5)\n",
        "  else:\n",
        "    return (0)"
      ]
    },
    {
      "cell_type": "code",
      "execution_count": 17,
      "metadata": {
        "id": "WxoxhjzRu7Hc"
      },
      "outputs": [],
      "source": [
        "# Sex (Descriptiva)-->Genero Binario (Indicador Numerico)\n",
        "def SexToType (X):\n",
        "  #Workclass = str (WC)\n",
        "  if (\"Female\" in X):\n",
        "    return (1)\n",
        "  if (\"Male\" in X):\n",
        "    return (2)\n",
        "  else:\n",
        "    return (0)"
      ]
    },
    {
      "cell_type": "markdown",
      "metadata": {
        "id": "cDg2b9mSDpeQ"
      },
      "source": [
        "## Support Vector Machines (Con sesgo)"
      ]
    },
    {
      "cell_type": "markdown",
      "metadata": {
        "id": "2VjiHAOxoXAW"
      },
      "source": [
        "### Base de Datos Transformada con sesgo"
      ]
    },
    {
      "cell_type": "code",
      "execution_count": 18,
      "metadata": {
        "colab": {
          "base_uri": "https://localhost:8080/"
        },
        "id": "a1bnQmYhzJWB",
        "outputId": "466681ce-bd3c-44a7-eb23-7c712371f98c"
      },
      "outputs": [
        {
          "data": {
            "text/html": [
              "<div>\n",
              "<style scoped>\n",
              "    .dataframe tbody tr th:only-of-type {\n",
              "        vertical-align: middle;\n",
              "    }\n",
              "\n",
              "    .dataframe tbody tr th {\n",
              "        vertical-align: top;\n",
              "    }\n",
              "\n",
              "    .dataframe thead th {\n",
              "        text-align: right;\n",
              "    }\n",
              "</style>\n",
              "<table border=\"1\" class=\"dataframe\">\n",
              "  <thead>\n",
              "    <tr style=\"text-align: right;\">\n",
              "      <th></th>\n",
              "      <th>Age</th>\n",
              "      <th>Workclass</th>\n",
              "      <th>fnlwgt</th>\n",
              "      <th>Education</th>\n",
              "      <th>Education-num</th>\n",
              "      <th>Marital-Status</th>\n",
              "      <th>Occupation</th>\n",
              "      <th>Relationship</th>\n",
              "      <th>Race</th>\n",
              "      <th>Sex</th>\n",
              "      <th>Capital-gain</th>\n",
              "      <th>Capital-loss</th>\n",
              "      <th>Hours-per-Week</th>\n",
              "      <th>Native-Country</th>\n",
              "      <th>Capital</th>\n",
              "    </tr>\n",
              "  </thead>\n",
              "  <tbody>\n",
              "    <tr>\n",
              "      <th>0</th>\n",
              "      <td>39</td>\n",
              "      <td>State-gov</td>\n",
              "      <td>77516</td>\n",
              "      <td>Bachelors</td>\n",
              "      <td>13</td>\n",
              "      <td>Never-married</td>\n",
              "      <td>Adm-clerical</td>\n",
              "      <td>Not-in-family</td>\n",
              "      <td>White</td>\n",
              "      <td>Male</td>\n",
              "      <td>2174</td>\n",
              "      <td>0</td>\n",
              "      <td>40</td>\n",
              "      <td>United-States</td>\n",
              "      <td>-1</td>\n",
              "    </tr>\n",
              "    <tr>\n",
              "      <th>1</th>\n",
              "      <td>50</td>\n",
              "      <td>Self-emp-not-inc</td>\n",
              "      <td>83311</td>\n",
              "      <td>Bachelors</td>\n",
              "      <td>13</td>\n",
              "      <td>Married-civ-spouse</td>\n",
              "      <td>Exec-managerial</td>\n",
              "      <td>Husband</td>\n",
              "      <td>White</td>\n",
              "      <td>Male</td>\n",
              "      <td>0</td>\n",
              "      <td>0</td>\n",
              "      <td>13</td>\n",
              "      <td>United-States</td>\n",
              "      <td>-1</td>\n",
              "    </tr>\n",
              "    <tr>\n",
              "      <th>2</th>\n",
              "      <td>38</td>\n",
              "      <td>Private</td>\n",
              "      <td>215646</td>\n",
              "      <td>HS-grad</td>\n",
              "      <td>9</td>\n",
              "      <td>Divorced</td>\n",
              "      <td>Handlers-cleaners</td>\n",
              "      <td>Not-in-family</td>\n",
              "      <td>White</td>\n",
              "      <td>Male</td>\n",
              "      <td>0</td>\n",
              "      <td>0</td>\n",
              "      <td>40</td>\n",
              "      <td>United-States</td>\n",
              "      <td>-1</td>\n",
              "    </tr>\n",
              "    <tr>\n",
              "      <th>3</th>\n",
              "      <td>53</td>\n",
              "      <td>Private</td>\n",
              "      <td>234721</td>\n",
              "      <td>11th</td>\n",
              "      <td>7</td>\n",
              "      <td>Married-civ-spouse</td>\n",
              "      <td>Handlers-cleaners</td>\n",
              "      <td>Husband</td>\n",
              "      <td>Black</td>\n",
              "      <td>Male</td>\n",
              "      <td>0</td>\n",
              "      <td>0</td>\n",
              "      <td>40</td>\n",
              "      <td>United-States</td>\n",
              "      <td>-1</td>\n",
              "    </tr>\n",
              "    <tr>\n",
              "      <th>4</th>\n",
              "      <td>28</td>\n",
              "      <td>Private</td>\n",
              "      <td>338409</td>\n",
              "      <td>Bachelors</td>\n",
              "      <td>13</td>\n",
              "      <td>Married-civ-spouse</td>\n",
              "      <td>Prof-specialty</td>\n",
              "      <td>Wife</td>\n",
              "      <td>Black</td>\n",
              "      <td>Female</td>\n",
              "      <td>0</td>\n",
              "      <td>0</td>\n",
              "      <td>40</td>\n",
              "      <td>Cuba</td>\n",
              "      <td>-1</td>\n",
              "    </tr>\n",
              "  </tbody>\n",
              "</table>\n",
              "</div>"
            ],
            "text/plain": [
              "   Age          Workclass  fnlwgt   Education  Education-num  \\\n",
              "0   39          State-gov   77516   Bachelors             13   \n",
              "1   50   Self-emp-not-inc   83311   Bachelors             13   \n",
              "2   38            Private  215646     HS-grad              9   \n",
              "3   53            Private  234721        11th              7   \n",
              "4   28            Private  338409   Bachelors             13   \n",
              "\n",
              "        Marital-Status          Occupation    Relationship    Race      Sex  \\\n",
              "0        Never-married        Adm-clerical   Not-in-family   White     Male   \n",
              "1   Married-civ-spouse     Exec-managerial         Husband   White     Male   \n",
              "2             Divorced   Handlers-cleaners   Not-in-family   White     Male   \n",
              "3   Married-civ-spouse   Handlers-cleaners         Husband   Black     Male   \n",
              "4   Married-civ-spouse      Prof-specialty            Wife   Black   Female   \n",
              "\n",
              "   Capital-gain  Capital-loss  Hours-per-Week  Native-Country  Capital  \n",
              "0          2174             0              40   United-States       -1  \n",
              "1             0             0              13   United-States       -1  \n",
              "2             0             0              40   United-States       -1  \n",
              "3             0             0              40   United-States       -1  \n",
              "4             0             0              40            Cuba       -1  "
            ]
          },
          "execution_count": 18,
          "metadata": {},
          "output_type": "execute_result"
        }
      ],
      "source": [
        "#Inicializar la base de datos original\n",
        "DataF = pd.read_csv(r'C:\\Users\\ASUS\\Desktop\\Examples SVM\\Adult Classification\\Data\\adult_data.csv',names=columns)\n",
        "\n",
        "def CapitalIndicator(Capital):\n",
        "  if (\"<\" in Capital):\n",
        "    return (-1)\n",
        "  if (\">\" in Capital):\n",
        "    return (1)\n",
        "\n",
        "#Podemos definir funciones y crear nuevas columnas con datos generados a partir de los datos ya existentes\n",
        "DataF[\"Capital\"] = DataF[\"Capital\"].apply(CapitalIndicator)\n",
        "DataF.head()"
      ]
    },
    {
      "cell_type": "code",
      "execution_count": 19,
      "metadata": {
        "colab": {
          "base_uri": "https://localhost:8080/"
        },
        "id": "jXUIpecxj0AM",
        "outputId": "888397d2-4a06-4283-9f77-2caffab472a2"
      },
      "outputs": [
        {
          "data": {
            "text/html": [
              "<div>\n",
              "<style scoped>\n",
              "    .dataframe tbody tr th:only-of-type {\n",
              "        vertical-align: middle;\n",
              "    }\n",
              "\n",
              "    .dataframe tbody tr th {\n",
              "        vertical-align: top;\n",
              "    }\n",
              "\n",
              "    .dataframe thead th {\n",
              "        text-align: right;\n",
              "    }\n",
              "</style>\n",
              "<table border=\"1\" class=\"dataframe\">\n",
              "  <thead>\n",
              "    <tr style=\"text-align: right;\">\n",
              "      <th></th>\n",
              "      <th>Edad</th>\n",
              "      <th>T. Trabajo</th>\n",
              "      <th>Nivel Educativo</th>\n",
              "      <th>E. Civil</th>\n",
              "      <th>Ocupación</th>\n",
              "      <th>T. Pareja</th>\n",
              "      <th>Raza</th>\n",
              "      <th>Genero B.</th>\n",
              "      <th>H.Laborales</th>\n",
              "    </tr>\n",
              "  </thead>\n",
              "  <tbody>\n",
              "    <tr>\n",
              "      <th>0</th>\n",
              "      <td>39</td>\n",
              "      <td>6</td>\n",
              "      <td>13</td>\n",
              "      <td>3</td>\n",
              "      <td>9</td>\n",
              "      <td>4</td>\n",
              "      <td>1</td>\n",
              "      <td>2</td>\n",
              "      <td>40</td>\n",
              "    </tr>\n",
              "    <tr>\n",
              "      <th>1</th>\n",
              "      <td>50</td>\n",
              "      <td>2</td>\n",
              "      <td>13</td>\n",
              "      <td>1</td>\n",
              "      <td>5</td>\n",
              "      <td>3</td>\n",
              "      <td>1</td>\n",
              "      <td>2</td>\n",
              "      <td>13</td>\n",
              "    </tr>\n",
              "    <tr>\n",
              "      <th>2</th>\n",
              "      <td>38</td>\n",
              "      <td>1</td>\n",
              "      <td>9</td>\n",
              "      <td>2</td>\n",
              "      <td>7</td>\n",
              "      <td>4</td>\n",
              "      <td>1</td>\n",
              "      <td>2</td>\n",
              "      <td>40</td>\n",
              "    </tr>\n",
              "    <tr>\n",
              "      <th>3</th>\n",
              "      <td>53</td>\n",
              "      <td>1</td>\n",
              "      <td>7</td>\n",
              "      <td>1</td>\n",
              "      <td>7</td>\n",
              "      <td>3</td>\n",
              "      <td>4</td>\n",
              "      <td>2</td>\n",
              "      <td>40</td>\n",
              "    </tr>\n",
              "    <tr>\n",
              "      <th>4</th>\n",
              "      <td>28</td>\n",
              "      <td>1</td>\n",
              "      <td>13</td>\n",
              "      <td>1</td>\n",
              "      <td>6</td>\n",
              "      <td>1</td>\n",
              "      <td>4</td>\n",
              "      <td>1</td>\n",
              "      <td>40</td>\n",
              "    </tr>\n",
              "  </tbody>\n",
              "</table>\n",
              "</div>"
            ],
            "text/plain": [
              "   Edad  T. Trabajo  Nivel Educativo  E. Civil  Ocupación  T. Pareja  Raza  \\\n",
              "0    39           6               13         3          9          4     1   \n",
              "1    50           2               13         1          5          3     1   \n",
              "2    38           1                9         2          7          4     1   \n",
              "3    53           1                7         1          7          3     4   \n",
              "4    28           1               13         1          6          1     4   \n",
              "\n",
              "   Genero B.  H.Laborales  \n",
              "0          2           40  \n",
              "1          2           13  \n",
              "2          2           40  \n",
              "3          2           40  \n",
              "4          1           40  "
            ]
          },
          "execution_count": 19,
          "metadata": {},
          "output_type": "execute_result"
        }
      ],
      "source": [
        "DataB = pd.DataFrame()\n",
        "\n",
        "DataB[\"Edad\"] = DataF[\"Age\"]\n",
        "DataB[\"T. Trabajo\"] = DataF[\"Workclass\"].apply(ClassToType) \n",
        "DataB[\"Nivel Educativo\"] = DataF[\"Education-num\"]\n",
        "DataB[\"E. Civil\"] = DataF[\"Marital-Status\"].apply(StatusToType) \n",
        "DataB[\"Ocupación\"] = DataF[\"Occupation\"].apply(OcupToType)\n",
        "DataB[\"T. Pareja\"] = DataF[\"Relationship\"].apply(RelationToType)\n",
        "DataB[\"Raza\"] = DataF[\"Race\"].apply(RaceToType)\n",
        "DataB[\"Genero B.\"] = DataF[\"Sex\"].apply(SexToType)\n",
        "DataB[\"H.Laborales\"] = DataF[\"Hours-per-Week\"]\n",
        "\n",
        "DataB.head()"
      ]
    },
    {
      "cell_type": "markdown",
      "metadata": {
        "id": "WhYXgRTwn2Zm"
      },
      "source": [
        "#### Descripcion:"
      ]
    },
    {
      "cell_type": "markdown",
      "metadata": {
        "id": "9j3R14mGn7_W"
      },
      "source": [
        "* Edad: Entero. \n",
        "\n",
        "* Tipo de Trabajo: \n",
        " 1. Empresa Privada\n",
        " 2. Autonomo sin empresa\n",
        " 3. Autonomo con empresa\n",
        " 4. Para el gobierno Federal \n",
        " 5. Para el gobierno Local\n",
        " 6. Para el gobierno Estatal\n",
        " 7. Sin Paga (Desempleado supongo)\n",
        " 8. Nunca a Trabajado \n",
        "\n",
        "* Indicador de nivel Academico: \n",
        " 1. Prescolar\n",
        " 2. 1st-4th \n",
        " 3. 5th-6th\n",
        " 4. 7th-8th\n",
        " 5. 9th\n",
        " 6. 10th\n",
        " 7. 11th\n",
        " 8. 12th\n",
        " 9. Grado Escolar\n",
        " 10. Alguna educacion superior\n",
        " 11. Assoc-voc (NPI)\n",
        " 12. Assoc-acdm (NPI)\n",
        " 13. Grado Superior\n",
        " 14. Maestria\n",
        " 15. Profesor\n",
        " 16. Doctorado\n",
        " \n",
        "  \n",
        "\n",
        "* Estado Civil: \n",
        " 1. Matrimonio Civil\n",
        " 2. Divorciado/a\n",
        " 3. Nunca se a casado/a \n",
        " 4. Separado/a \n",
        " 5. Viudo/a  \n",
        " 6. Casado con pareja ausente\n",
        " 7. Married-AF-spouse (NPI)\n",
        "\n",
        "* occupation: 1.Tech-support, 2.Craft-repair, 3.Other-service, 4.Sales, 5.Exec-managerial, 6.Prof-specialty, 7.Handlers-cleaners, 8.Machine-op-inspct, 9.Adm-clerical, 10.Farming-fishing, 11.Transport-moving, 12.Priv-house-serv, 13.Protective-serv, 14.Armed-Forces. x\n",
        "\n",
        "* relationship: Wife, Own-child, Husband, Not-in-family, Other-relative, Unmarried. x\n",
        "\n",
        "* race: White, Asian-Pac-Islander, Amer-Indian-Eskimo, Black, Other. x\n",
        "\n",
        "* sex: Female, Male.\n",
        "\n",
        "* hours-per-week: continuous.\n",
        "\n",
        "\n",
        "\n",
        "(DataB no incluye  Pais de origen aun)\n",
        "\n",
        "* native-country: United-States, Cambodia, England, Puerto-Rico, Canada, Germany, Outlying-US(Guam-USVI-etc), India, Japan, Greece, South, China, Cuba, Iran, Honduras, Philippines, Italy, Poland, Jamaica, Vietnam, Mexico, Portugal, Ireland, France, Dominican-Republic, Laos, Ecuador, Taiwan, Haiti, Columbia, Hungary, Guatemala, Nicaragua, Scotland, Thailand, Yugoslavia, El-Salvador, Trinadad&Tobago, Peru, Hong, Holand-Netherlands."
      ]
    },
    {
      "cell_type": "markdown",
      "metadata": {
        "id": "o0Ma6k8FzQ-O"
      },
      "source": [
        "### SVM sin Pais de origen"
      ]
    },
    {
      "cell_type": "code",
      "execution_count": 20,
      "metadata": {
        "id": "othvgGqtzQAa"
      },
      "outputs": [],
      "source": [
        "#Preparo los datos para el entrenamiento decidi usar el 70% de los datos para esto\n",
        "# por el documento de analisis de Algoritmos, dejando el 30% para el testeo\n",
        "\n",
        "#De todas maneras hice la prueba con otras proporciones pero no mejoraron el resultado\n",
        "\n",
        "y = DataF[\"Capital\"]\n",
        "X= DataB\n",
        "\n",
        "X_train, X_test, y_train, y_test = train_test_split(X,y,test_size=0.3, random_state=42,stratify=y)\n",
        "\n",
        "\n",
        "#?????????????????????????????????????????????????????????????????????????????????????????????????????\n",
        "sc = StandardScaler()\n",
        "X_train_array = sc.fit_transform(X_train.values)\n",
        "X_train = pd.DataFrame(X_train_array, index=X_train.index, columns=X_train.columns)\n",
        "X_test_array = sc.transform(X_test.values)\n",
        "X_test = pd.DataFrame(X_test_array, index=X_test.index, columns=X_test.columns)"
      ]
    },
    {
      "cell_type": "code",
      "execution_count": 21,
      "metadata": {
        "colab": {
          "base_uri": "https://localhost:8080/"
        },
        "id": "iAxcXeXvz8vS",
        "outputId": "6e203161-12e0-4aea-c65c-ae5e8a3775d0"
      },
      "outputs": [
        {
          "name": "stdout",
          "output_type": "stream",
          "text": [
            "0.8301770907974204\n"
          ]
        },
        {
          "data": {
            "image/png": "[encoded data removed]",
            "text/plain": [
              "<Figure size 432x288 with 2 Axes>"
            ]
          },
          "metadata": {
            "needs_background": "light"
          },
          "output_type": "display_data"
        }
      ],
      "source": [
        "#Modelo con Kernel RBF\n",
        "SegmentacionSalarial = svm.SVC()\n",
        "SegmentacionSalarial.fit(X_train, y_train)\n",
        "\n",
        "Y = SegmentacionSalarial.predict(X_test)\n",
        "Acc_1 = SegmentacionSalarial.score(X_test,y_test)\n",
        "print(Acc_1)\n",
        "confusion_matrix(Y, y_test)\n",
        "\n",
        "plot_confusion_matrix(SegmentacionSalarial, X_test, y_test)  \n",
        "plt.show()"
      ]
    },
    {
      "cell_type": "markdown",
      "metadata": {
        "id": "V1j9_4PitoO9"
      },
      "source": [
        "#### Pruebas con otros kernels (No mejoran el resultado)"
      ]
    },
    {
      "cell_type": "code",
      "execution_count": 22,
      "metadata": {
        "colab": {
          "base_uri": "https://localhost:8080/"
        },
        "id": "D39cs97draG4",
        "outputId": "4bac21ef-3343-4f6c-94db-409dc2aec86b"
      },
      "outputs": [
        {
          "name": "stdout",
          "output_type": "stream",
          "text": [
            "0.8223973794656567\n"
          ]
        },
        {
          "data": {
            "image/png": "[encoded data removed]",
            "text/plain": [
              "<Figure size 432x288 with 2 Axes>"
            ]
          },
          "metadata": {
            "needs_background": "light"
          },
          "output_type": "display_data"
        }
      ],
      "source": [
        "#Modelo con Kernel Linear\n",
        "SegmentacionSalarial = svm.SVC(kernel='linear')\n",
        "SegmentacionSalarial.fit(X_train, y_train)\n",
        "\n",
        "Y = SegmentacionSalarial.predict(X_test)\n",
        "print(SegmentacionSalarial.score(X_test,y_test))\n",
        "confusion_matrix(Y, y_test)\n",
        "\n",
        "plot_confusion_matrix(SegmentacionSalarial, X_test, y_test)  \n",
        "plt.show()"
      ]
    },
    {
      "cell_type": "code",
      "execution_count": 23,
      "metadata": {
        "colab": {
          "base_uri": "https://localhost:8080/"
        },
        "id": "-VmPcybks7NE",
        "outputId": "21010283-f839-490a-cdfa-b634f86679d6"
      },
      "outputs": [
        {
          "name": "stdout",
          "output_type": "stream",
          "text": [
            "0.8248541304125294\n"
          ]
        },
        {
          "data": {
            "image/png": "[encoded data removed]",
            "text/plain": [
              "<Figure size 432x288 with 2 Axes>"
            ]
          },
          "metadata": {
            "needs_background": "light"
          },
          "output_type": "display_data"
        }
      ],
      "source": [
        "#Modelo con Kernel Polinomial\n",
        "SegmentacionSalarial = svm.SVC(kernel='poly')\n",
        "SegmentacionSalarial.fit(X_train, y_train)\n",
        "\n",
        "Y = SegmentacionSalarial.predict(X_test)\n",
        "print(SegmentacionSalarial.score(X_test,y_test))\n",
        "confusion_matrix(Y, y_test)\n",
        "\n",
        "plot_confusion_matrix(SegmentacionSalarial, X_test, y_test)  \n",
        "plt.show()"
      ]
    },
    {
      "cell_type": "code",
      "execution_count": 24,
      "metadata": {
        "colab": {
          "base_uri": "https://localhost:8080/"
        },
        "id": "Aonfq7pEtNHv",
        "outputId": "8dd550f7-7101-4d9d-ce16-66f46a126bf2"
      },
      "outputs": [
        {
          "name": "stdout",
          "output_type": "stream",
          "text": [
            "0.7468522878493192\n"
          ]
        },
        {
          "data": {
            "image/png": "[encoded data removed]",
            "text/plain": [
              "<Figure size 432x288 with 2 Axes>"
            ]
          },
          "metadata": {
            "needs_background": "light"
          },
          "output_type": "display_data"
        }
      ],
      "source": [
        "#Modelo con Kernel Sigmoideal\n",
        "SegmentacionSalarial = svm.SVC(kernel='sigmoid')\n",
        "SegmentacionSalarial.fit(X_train, y_train)\n",
        "\n",
        "Y = SegmentacionSalarial.predict(X_test)\n",
        "print(SegmentacionSalarial.score(X_test,y_test))\n",
        "confusion_matrix(Y, y_test)\n",
        "\n",
        "plot_confusion_matrix(SegmentacionSalarial, X_test, y_test)  \n",
        "plt.show()"
      ]
    },
    {
      "cell_type": "markdown",
      "metadata": {
        "id": "_GkKbhqnypSV"
      },
      "source": [
        "### SVM Completo\n"
      ]
    },
    {
      "cell_type": "markdown",
      "metadata": {
        "id": "rtPir6I86BDo"
      },
      "source": [
        "#### Funcion de Pais de Origen (Indicador Numerico)"
      ]
    },
    {
      "cell_type": "code",
      "execution_count": 25,
      "metadata": {
        "id": "TEtJMKVu0GIe"
      },
      "outputs": [],
      "source": [
        "#Native-Country (Descriptivo) --> Pais de Origen (Indicador Numerico)\n",
        "def NatToType (X):\n",
        "  if (\"United-States\" in X):\n",
        "    return (1)\n",
        "  if (\"Cambodia\" in X):\n",
        "    return (2)\n",
        "  if (\"England\" in X):\n",
        "    return (3)\n",
        "  if (\"Puerto-Rico\" in X):\n",
        "    return (4)\n",
        "  if (\"Canada\" in X):\n",
        "    return (5)\n",
        "  if (\"Germany\" in X):\n",
        "    return (6)\n",
        "  if (\"Outlying-US\" in X):\n",
        "    return (7)\n",
        "  if (\"India\" in X):\n",
        "    return (8)\n",
        "  if (\"Japan\" in X):\n",
        "    return (9)\n",
        "  if (\"Greece\" in X):\n",
        "    return (10)\n",
        "  if (\"South\" in X):\n",
        "    return (11)\n",
        "  if (\"China\" in X):\n",
        "    return (12)\n",
        "  if (\"Cuba\" in X):\n",
        "    return (13)\n",
        "  if (\"Iran\" in X):\n",
        "    return (14)  \n",
        "  if (\"Honduras\" in X):\n",
        "    return (15)\n",
        "  if (\"Philippines\" in X):\n",
        "    return (16)\n",
        "  if (\"Italy\" in X):\n",
        "    return (17)\n",
        "  if (\"Poland\" in X):\n",
        "    return (18)\n",
        "  if (\"Jamaica\" in X):\n",
        "    return (19)\n",
        "  if (\"Vietnam\" in X):\n",
        "    return (20)\n",
        "  if (\"Mexico\" in X):\n",
        "    return (21)\n",
        "  if (\"Portugal\" in X):\n",
        "    return (22)\n",
        "  if (\"Ireland\" in X):\n",
        "    return (23)\n",
        "  if (\"France\" in X):\n",
        "    return (24)\n",
        "  if (\"Dominican-Republic\" in X):\n",
        "    return (25)\n",
        "  if (\"Laos\" in X):\n",
        "    return (26)\n",
        "  if (\"Ecuador\" in X):\n",
        "    return (27)\n",
        "  if (\"Taiwan\" in X):\n",
        "    return (28)\n",
        "  if (\"Haiti\" in X):\n",
        "    return (29)\n",
        "  if (\"Columbia\" in X):\n",
        "    return (30)\n",
        "  if (\"Hungary\" in X):\n",
        "    return (31)\n",
        "  if (\"Guatemala\" in X):\n",
        "    return (32)\n",
        "  if (\"Nicaragua\" in X):\n",
        "    return (33)\n",
        "  if (\"Scotland\" in X):\n",
        "    return (34)\n",
        "  if (\"Thailand\" in X):\n",
        "    return (35)\n",
        "  if (\"Yugoslavia\" in X):\n",
        "    return (36)\n",
        "  if (\"El-Salvador\" in X):\n",
        "    return (37)\n",
        "  if (\"Trinadad&Tobago\" in X):\n",
        "    return (38)\n",
        "  if (\"Peru\" in X):\n",
        "    return (39)\n",
        "  if (\"Hong\" in X):\n",
        "    return (40)\n",
        "  if (\"Holand-Netherlands\" in X):\n",
        "    return (41)\n",
        "  else:\n",
        "    return (0)"
      ]
    },
    {
      "cell_type": "markdown",
      "metadata": {
        "id": "0djb01156HUa"
      },
      "source": [
        "#### Ejecución "
      ]
    },
    {
      "cell_type": "code",
      "execution_count": 26,
      "metadata": {
        "colab": {
          "base_uri": "https://localhost:8080/"
        },
        "id": "XeBk5tin6MVo",
        "outputId": "aa38d67d-243c-47e5-80fa-636f27f171ad"
      },
      "outputs": [
        {
          "data": {
            "text/html": [
              "<div>\n",
              "<style scoped>\n",
              "    .dataframe tbody tr th:only-of-type {\n",
              "        vertical-align: middle;\n",
              "    }\n",
              "\n",
              "    .dataframe tbody tr th {\n",
              "        vertical-align: top;\n",
              "    }\n",
              "\n",
              "    .dataframe thead th {\n",
              "        text-align: right;\n",
              "    }\n",
              "</style>\n",
              "<table border=\"1\" class=\"dataframe\">\n",
              "  <thead>\n",
              "    <tr style=\"text-align: right;\">\n",
              "      <th></th>\n",
              "      <th>Edad</th>\n",
              "      <th>T. Trabajo</th>\n",
              "      <th>Nivel Educativo</th>\n",
              "      <th>E. Civil</th>\n",
              "      <th>Ocupación</th>\n",
              "      <th>T. Pareja</th>\n",
              "      <th>Raza</th>\n",
              "      <th>Genero B.</th>\n",
              "      <th>H.Laborales</th>\n",
              "      <th>Pais de Origen</th>\n",
              "    </tr>\n",
              "  </thead>\n",
              "  <tbody>\n",
              "    <tr>\n",
              "      <th>0</th>\n",
              "      <td>39</td>\n",
              "      <td>6</td>\n",
              "      <td>13</td>\n",
              "      <td>3</td>\n",
              "      <td>9</td>\n",
              "      <td>4</td>\n",
              "      <td>1</td>\n",
              "      <td>2</td>\n",
              "      <td>40</td>\n",
              "      <td>1</td>\n",
              "    </tr>\n",
              "    <tr>\n",
              "      <th>1</th>\n",
              "      <td>50</td>\n",
              "      <td>2</td>\n",
              "      <td>13</td>\n",
              "      <td>1</td>\n",
              "      <td>5</td>\n",
              "      <td>3</td>\n",
              "      <td>1</td>\n",
              "      <td>2</td>\n",
              "      <td>13</td>\n",
              "      <td>1</td>\n",
              "    </tr>\n",
              "    <tr>\n",
              "      <th>2</th>\n",
              "      <td>38</td>\n",
              "      <td>1</td>\n",
              "      <td>9</td>\n",
              "      <td>2</td>\n",
              "      <td>7</td>\n",
              "      <td>4</td>\n",
              "      <td>1</td>\n",
              "      <td>2</td>\n",
              "      <td>40</td>\n",
              "      <td>1</td>\n",
              "    </tr>\n",
              "    <tr>\n",
              "      <th>3</th>\n",
              "      <td>53</td>\n",
              "      <td>1</td>\n",
              "      <td>7</td>\n",
              "      <td>1</td>\n",
              "      <td>7</td>\n",
              "      <td>3</td>\n",
              "      <td>4</td>\n",
              "      <td>2</td>\n",
              "      <td>40</td>\n",
              "      <td>1</td>\n",
              "    </tr>\n",
              "    <tr>\n",
              "      <th>4</th>\n",
              "      <td>28</td>\n",
              "      <td>1</td>\n",
              "      <td>13</td>\n",
              "      <td>1</td>\n",
              "      <td>6</td>\n",
              "      <td>1</td>\n",
              "      <td>4</td>\n",
              "      <td>1</td>\n",
              "      <td>40</td>\n",
              "      <td>13</td>\n",
              "    </tr>\n",
              "  </tbody>\n",
              "</table>\n",
              "</div>"
            ],
            "text/plain": [
              "   Edad  T. Trabajo  Nivel Educativo  E. Civil  Ocupación  T. Pareja  Raza  \\\n",
              "0    39           6               13         3          9          4     1   \n",
              "1    50           2               13         1          5          3     1   \n",
              "2    38           1                9         2          7          4     1   \n",
              "3    53           1                7         1          7          3     4   \n",
              "4    28           1               13         1          6          1     4   \n",
              "\n",
              "   Genero B.  H.Laborales  Pais de Origen  \n",
              "0          2           40               1  \n",
              "1          2           13               1  \n",
              "2          2           40               1  \n",
              "3          2           40               1  \n",
              "4          1           40              13  "
            ]
          },
          "execution_count": 26,
          "metadata": {},
          "output_type": "execute_result"
        }
      ],
      "source": [
        "DataB[\"Pais de Origen\"] = DataF[\"Native-Country\"].apply(NatToType)\n",
        "\n",
        "DataB.head()"
      ]
    },
    {
      "cell_type": "code",
      "execution_count": 27,
      "metadata": {
        "id": "Qsn9JC-z65gK"
      },
      "outputs": [],
      "source": [
        "#Preparo los datos para el entrenamiento decidi usar el 70% de los datos para esto\n",
        "# por el documento de analisis de Algoritmos, dejando el 30% para el testeo\n",
        "\n",
        "y = DataF[\"Capital\"]\n",
        "X = DataB\n",
        "\n",
        "X_train, X_test, y_train, y_test = train_test_split(X,y,test_size=0.3, random_state=42,stratify=y)\n",
        "\n",
        "sc = StandardScaler()\n",
        "X_train_array = sc.fit_transform(X_train.values)\n",
        "X_train = pd.DataFrame(X_train_array, index=X_train.index, columns=X_train.columns)\n",
        "X_test_array = sc.transform(X_test.values)\n",
        "X_test = pd.DataFrame(X_test_array, index=X_test.index, columns=X_test.columns)"
      ]
    },
    {
      "cell_type": "code",
      "execution_count": 28,
      "metadata": {
        "colab": {
          "base_uri": "https://localhost:8080/"
        },
        "id": "ZVeVdYLp69WF",
        "outputId": "61147ebc-55ee-4d51-afe1-1738329b1bc1"
      },
      "outputs": [
        {
          "name": "stdout",
          "output_type": "stream",
          "text": [
            "0.8296652676834886\n"
          ]
        },
        {
          "data": {
            "image/png": "[encoded data removed]",
            "text/plain": [
              "<Figure size 432x288 with 2 Axes>"
            ]
          },
          "metadata": {
            "needs_background": "light"
          },
          "output_type": "display_data"
        }
      ],
      "source": [
        "#Modelo con Kernel RBF\n",
        "SegmentacionSalarial = svm.SVC()\n",
        "SegmentacionSalarial.fit(X_train, y_train)\n",
        "\n",
        "Y = SegmentacionSalarial.predict(X_test)\n",
        "Acc_2 = SegmentacionSalarial.score(X_test,y_test)\n",
        "print(Acc_2)\n",
        "confusion_matrix(Y, y_test)\n",
        "\n",
        "plot_confusion_matrix(SegmentacionSalarial, X_test, y_test)  \n",
        "plt.show()"
      ]
    },
    {
      "cell_type": "markdown",
      "metadata": {
        "id": "HB40g0tc8Lew"
      },
      "source": [
        "#### Pruebas con otros kernels (No mejoran el resultado)"
      ]
    },
    {
      "cell_type": "code",
      "execution_count": 29,
      "metadata": {
        "colab": {
          "base_uri": "https://localhost:8080/"
        },
        "id": "q0TOGwGg8LfE",
        "outputId": "124d13af-e7aa-4e6a-fbcc-ba99c69bb976"
      },
      "outputs": [
        {
          "name": "stdout",
          "output_type": "stream",
          "text": [
            "0.8224997440884431\n"
          ]
        },
        {
          "data": {
            "image/png": "[encoded data removed]",
            "text/plain": [
              "<Figure size 432x288 with 2 Axes>"
            ]
          },
          "metadata": {
            "needs_background": "light"
          },
          "output_type": "display_data"
        }
      ],
      "source": [
        "#Modelo con Kernel Linear\n",
        "SegmentacionSalarial = svm.SVC(kernel='linear')\n",
        "SegmentacionSalarial.fit(X_train, y_train)\n",
        "\n",
        "Y = SegmentacionSalarial.predict(X_test)\n",
        "print(SegmentacionSalarial.score(X_test,y_test))\n",
        "confusion_matrix(Y, y_test)\n",
        "\n",
        "plot_confusion_matrix(SegmentacionSalarial, X_test, y_test)  \n",
        "plt.show()"
      ]
    },
    {
      "cell_type": "code",
      "execution_count": 30,
      "metadata": {
        "colab": {
          "base_uri": "https://localhost:8080/"
        },
        "id": "uuOilsLB8LfG",
        "outputId": "bcee590d-dd4a-4d79-8556-6141175caa42"
      },
      "outputs": [
        {
          "name": "stdout",
          "output_type": "stream",
          "text": [
            "0.8247517657897431\n"
          ]
        },
        {
          "data": {
            "image/png": "[encoded data removed]",
            "text/plain": [
              "<Figure size 432x288 with 2 Axes>"
            ]
          },
          "metadata": {
            "needs_background": "light"
          },
          "output_type": "display_data"
        }
      ],
      "source": [
        "#Modelo con Kernel Polinomial\n",
        "SegmentacionSalarial = svm.SVC(kernel='poly')\n",
        "SegmentacionSalarial.fit(X_train, y_train)\n",
        "\n",
        "Y = SegmentacionSalarial.predict(X_test)\n",
        "print(SegmentacionSalarial.score(X_test,y_test))\n",
        "confusion_matrix(Y, y_test)\n",
        "\n",
        "plot_confusion_matrix(SegmentacionSalarial, X_test, y_test)  \n",
        "plt.show()"
      ]
    },
    {
      "cell_type": "code",
      "execution_count": 31,
      "metadata": {
        "colab": {
          "base_uri": "https://localhost:8080/"
        },
        "id": "bKFWqV9j8LfH",
        "outputId": "5dac45ee-0725-47bd-f40f-1a213eed4d79"
      },
      "outputs": [
        {
          "name": "stdout",
          "output_type": "stream",
          "text": [
            "0.763332992117924\n"
          ]
        },
        {
          "data": {
            "image/png": "[encoded data removed]",
            "text/plain": [
              "<Figure size 432x288 with 2 Axes>"
            ]
          },
          "metadata": {
            "needs_background": "light"
          },
          "output_type": "display_data"
        }
      ],
      "source": [
        "#Modelo con Kernel Sigmoideal\n",
        "SegmentacionSalarial = svm.SVC(kernel='sigmoid')\n",
        "SegmentacionSalarial.fit(X_train, y_train)\n",
        "\n",
        "Y = SegmentacionSalarial.predict(X_test)\n",
        "print(SegmentacionSalarial.score(X_test,y_test))\n",
        "confusion_matrix(Y, y_test)\n",
        "\n",
        "plot_confusion_matrix(SegmentacionSalarial, X_test, y_test)  \n",
        "plt.show()"
      ]
    },
    {
      "cell_type": "markdown",
      "metadata": {
        "id": "9MNm50tG_tXF"
      },
      "source": [
        "### SVM sin Genero B. "
      ]
    },
    {
      "cell_type": "code",
      "execution_count": 32,
      "metadata": {
        "colab": {
          "base_uri": "https://localhost:8080/"
        },
        "id": "tQh22qUvAFgv",
        "outputId": "594fd665-1eaa-4c44-aebb-88bc9ec4401e"
      },
      "outputs": [
        {
          "data": {
            "text/html": [
              "<div>\n",
              "<style scoped>\n",
              "    .dataframe tbody tr th:only-of-type {\n",
              "        vertical-align: middle;\n",
              "    }\n",
              "\n",
              "    .dataframe tbody tr th {\n",
              "        vertical-align: top;\n",
              "    }\n",
              "\n",
              "    .dataframe thead th {\n",
              "        text-align: right;\n",
              "    }\n",
              "</style>\n",
              "<table border=\"1\" class=\"dataframe\">\n",
              "  <thead>\n",
              "    <tr style=\"text-align: right;\">\n",
              "      <th></th>\n",
              "      <th>Edad</th>\n",
              "      <th>T. Trabajo</th>\n",
              "      <th>Nivel Educativo</th>\n",
              "      <th>E. Civil</th>\n",
              "      <th>Ocupación</th>\n",
              "      <th>T. Pareja</th>\n",
              "      <th>Raza</th>\n",
              "      <th>H.Laborales</th>\n",
              "      <th>Pais de Origen</th>\n",
              "    </tr>\n",
              "  </thead>\n",
              "  <tbody>\n",
              "    <tr>\n",
              "      <th>0</th>\n",
              "      <td>39</td>\n",
              "      <td>6</td>\n",
              "      <td>13</td>\n",
              "      <td>3</td>\n",
              "      <td>9</td>\n",
              "      <td>4</td>\n",
              "      <td>1</td>\n",
              "      <td>40</td>\n",
              "      <td>1</td>\n",
              "    </tr>\n",
              "    <tr>\n",
              "      <th>1</th>\n",
              "      <td>50</td>\n",
              "      <td>2</td>\n",
              "      <td>13</td>\n",
              "      <td>1</td>\n",
              "      <td>5</td>\n",
              "      <td>3</td>\n",
              "      <td>1</td>\n",
              "      <td>13</td>\n",
              "      <td>1</td>\n",
              "    </tr>\n",
              "    <tr>\n",
              "      <th>2</th>\n",
              "      <td>38</td>\n",
              "      <td>1</td>\n",
              "      <td>9</td>\n",
              "      <td>2</td>\n",
              "      <td>7</td>\n",
              "      <td>4</td>\n",
              "      <td>1</td>\n",
              "      <td>40</td>\n",
              "      <td>1</td>\n",
              "    </tr>\n",
              "    <tr>\n",
              "      <th>3</th>\n",
              "      <td>53</td>\n",
              "      <td>1</td>\n",
              "      <td>7</td>\n",
              "      <td>1</td>\n",
              "      <td>7</td>\n",
              "      <td>3</td>\n",
              "      <td>4</td>\n",
              "      <td>40</td>\n",
              "      <td>1</td>\n",
              "    </tr>\n",
              "    <tr>\n",
              "      <th>4</th>\n",
              "      <td>28</td>\n",
              "      <td>1</td>\n",
              "      <td>13</td>\n",
              "      <td>1</td>\n",
              "      <td>6</td>\n",
              "      <td>1</td>\n",
              "      <td>4</td>\n",
              "      <td>40</td>\n",
              "      <td>13</td>\n",
              "    </tr>\n",
              "  </tbody>\n",
              "</table>\n",
              "</div>"
            ],
            "text/plain": [
              "   Edad  T. Trabajo  Nivel Educativo  E. Civil  Ocupación  T. Pareja  Raza  \\\n",
              "0    39           6               13         3          9          4     1   \n",
              "1    50           2               13         1          5          3     1   \n",
              "2    38           1                9         2          7          4     1   \n",
              "3    53           1                7         1          7          3     4   \n",
              "4    28           1               13         1          6          1     4   \n",
              "\n",
              "   H.Laborales  Pais de Origen  \n",
              "0           40               1  \n",
              "1           13               1  \n",
              "2           40               1  \n",
              "3           40               1  \n",
              "4           40              13  "
            ]
          },
          "execution_count": 32,
          "metadata": {},
          "output_type": "execute_result"
        }
      ],
      "source": [
        "DataB = DataB.drop(['Genero B.'], axis=1)\n",
        "\n",
        "DataB.head()"
      ]
    },
    {
      "cell_type": "code",
      "execution_count": 33,
      "metadata": {
        "id": "JJs8TDUXBYFR"
      },
      "outputs": [],
      "source": [
        "#Preparo los datos para el entrenamiento decidi usar el 70% de los datos para esto\n",
        "# por el documento de analisis de Algoritmos, dejando el 30% para el testeo\n",
        "\n",
        "y = DataF[\"Capital\"]\n",
        "X= DataB\n",
        "\n",
        "X_train, X_test, y_train, y_test = train_test_split(X,y,test_size=0.3, random_state=42,stratify=y)\n",
        "\n",
        "sc = StandardScaler()\n",
        "X_train_array = sc.fit_transform(X_train.values)\n",
        "X_train = pd.DataFrame(X_train_array, index=X_train.index, columns=X_train.columns)\n",
        "X_test_array = sc.transform(X_test.values)\n",
        "X_test = pd.DataFrame(X_test_array, index=X_test.index, columns=X_test.columns)"
      ]
    },
    {
      "cell_type": "code",
      "execution_count": 34,
      "metadata": {
        "colab": {
          "base_uri": "https://localhost:8080/"
        },
        "id": "qxfAuqjSBcV3",
        "outputId": "30191512-fb4b-4b80-d91f-397942f17c56"
      },
      "outputs": [
        {
          "name": "stdout",
          "output_type": "stream",
          "text": [
            "0.8287439860784113\n"
          ]
        },
        {
          "data": {
            "image/png": "[encoded data removed]",
            "text/plain": [
              "<Figure size 432x288 with 2 Axes>"
            ]
          },
          "metadata": {
            "needs_background": "light"
          },
          "output_type": "display_data"
        }
      ],
      "source": [
        "#Modelo con Kernel RBF\n",
        "SegmentacionSalarial = svm.SVC()\n",
        "SegmentacionSalarial.fit(X_train, y_train)\n",
        "\n",
        "Y = SegmentacionSalarial.predict(X_test)\n",
        "Acc_3 = SegmentacionSalarial.score(X_test,y_test)\n",
        "print(Acc_3)\n",
        "confusion_matrix(Y, y_test)\n",
        "\n",
        "plot_confusion_matrix(SegmentacionSalarial, X_test, y_test)  \n",
        "plt.show()"
      ]
    },
    {
      "cell_type": "markdown",
      "metadata": {
        "id": "DnnT1vP9CSd4"
      },
      "source": [
        "#### Pruebas con otros kernels (No mejoran el resultado)"
      ]
    },
    {
      "cell_type": "code",
      "execution_count": 35,
      "metadata": {
        "colab": {
          "base_uri": "https://localhost:8080/"
        },
        "id": "mv--LYSsCSd6",
        "outputId": "543320d9-e64f-467d-9c13-60e1ae99ca92"
      },
      "outputs": [
        {
          "name": "stdout",
          "output_type": "stream",
          "text": [
            "0.8236257549390931\n"
          ]
        },
        {
          "data": {
            "image/png": "[encoded data removed]",
            "text/plain": [
              "<Figure size 432x288 with 2 Axes>"
            ]
          },
          "metadata": {
            "needs_background": "light"
          },
          "output_type": "display_data"
        }
      ],
      "source": [
        "#Modelo con Kernel Linear\n",
        "SegmentacionSalarial = svm.SVC(kernel='linear')\n",
        "SegmentacionSalarial.fit(X_train, y_train)\n",
        "\n",
        "Y = SegmentacionSalarial.predict(X_test)\n",
        "print(SegmentacionSalarial.score(X_test,y_test))\n",
        "confusion_matrix(Y, y_test)\n",
        "\n",
        "plot_confusion_matrix(SegmentacionSalarial, X_test, y_test)  \n",
        "plt.show()"
      ]
    },
    {
      "cell_type": "code",
      "execution_count": 36,
      "metadata": {
        "colab": {
          "base_uri": "https://localhost:8080/"
        },
        "id": "fPJESps8CSd-",
        "outputId": "a0b6c7ea-9873-4f67-8a8b-e3fecd8a9fbe"
      },
      "outputs": [
        {
          "name": "stdout",
          "output_type": "stream",
          "text": [
            "0.8234210256935203\n"
          ]
        },
        {
          "data": {
            "image/png": "[encoded data removed]",
            "text/plain": [
              "<Figure size 432x288 with 2 Axes>"
            ]
          },
          "metadata": {
            "needs_background": "light"
          },
          "output_type": "display_data"
        }
      ],
      "source": [
        "#Modelo con Kernel Polinomial\n",
        "SegmentacionSalarial = svm.SVC(kernel='poly')\n",
        "SegmentacionSalarial.fit(X_train, y_train)\n",
        "\n",
        "Y = SegmentacionSalarial.predict(X_test)\n",
        "print(SegmentacionSalarial.score(X_test,y_test))\n",
        "confusion_matrix(Y, y_test)\n",
        "\n",
        "plot_confusion_matrix(SegmentacionSalarial, X_test, y_test)  \n",
        "plt.show()"
      ]
    },
    {
      "cell_type": "code",
      "execution_count": 37,
      "metadata": {
        "colab": {
          "base_uri": "https://localhost:8080/"
        },
        "id": "lBQbT-9zCSeA",
        "outputId": "d367ef92-9b00-47ae-af8f-97a88eb92020"
      },
      "outputs": [
        {
          "name": "stdout",
          "output_type": "stream",
          "text": [
            "0.7561674685228785\n"
          ]
        },
        {
          "data": {
            "image/png": "[encoded data removed]",
            "text/plain": [
              "<Figure size 432x288 with 2 Axes>"
            ]
          },
          "metadata": {
            "needs_background": "light"
          },
          "output_type": "display_data"
        }
      ],
      "source": [
        "#Modelo con Kernel Sigmoideal\n",
        "SegmentacionSalarial = svm.SVC(kernel='sigmoid')\n",
        "SegmentacionSalarial.fit(X_train, y_train)\n",
        "\n",
        "Y = SegmentacionSalarial.predict(X_test)\n",
        "print(SegmentacionSalarial.score(X_test,y_test))\n",
        "confusion_matrix(Y, y_test)\n",
        "\n",
        "plot_confusion_matrix(SegmentacionSalarial, X_test, y_test)  \n",
        "plt.show()"
      ]
    },
    {
      "cell_type": "markdown",
      "metadata": {
        "id": "Ai5pSrubSNxc"
      },
      "source": [
        "### SVM sin Pais de O. ni Genero B."
      ]
    },
    {
      "cell_type": "code",
      "execution_count": 38,
      "metadata": {
        "colab": {
          "base_uri": "https://localhost:8080/"
        },
        "id": "osCoPqtCSYzf",
        "outputId": "3a6dbf72-a595-4c63-f3e7-23bfe7106ef7"
      },
      "outputs": [
        {
          "data": {
            "text/html": [
              "<div>\n",
              "<style scoped>\n",
              "    .dataframe tbody tr th:only-of-type {\n",
              "        vertical-align: middle;\n",
              "    }\n",
              "\n",
              "    .dataframe tbody tr th {\n",
              "        vertical-align: top;\n",
              "    }\n",
              "\n",
              "    .dataframe thead th {\n",
              "        text-align: right;\n",
              "    }\n",
              "</style>\n",
              "<table border=\"1\" class=\"dataframe\">\n",
              "  <thead>\n",
              "    <tr style=\"text-align: right;\">\n",
              "      <th></th>\n",
              "      <th>Edad</th>\n",
              "      <th>T. Trabajo</th>\n",
              "      <th>Nivel Educativo</th>\n",
              "      <th>E. Civil</th>\n",
              "      <th>Ocupación</th>\n",
              "      <th>T. Pareja</th>\n",
              "      <th>Raza</th>\n",
              "      <th>H.Laborales</th>\n",
              "    </tr>\n",
              "  </thead>\n",
              "  <tbody>\n",
              "    <tr>\n",
              "      <th>0</th>\n",
              "      <td>39</td>\n",
              "      <td>6</td>\n",
              "      <td>13</td>\n",
              "      <td>3</td>\n",
              "      <td>9</td>\n",
              "      <td>4</td>\n",
              "      <td>1</td>\n",
              "      <td>40</td>\n",
              "    </tr>\n",
              "    <tr>\n",
              "      <th>1</th>\n",
              "      <td>50</td>\n",
              "      <td>2</td>\n",
              "      <td>13</td>\n",
              "      <td>1</td>\n",
              "      <td>5</td>\n",
              "      <td>3</td>\n",
              "      <td>1</td>\n",
              "      <td>13</td>\n",
              "    </tr>\n",
              "    <tr>\n",
              "      <th>2</th>\n",
              "      <td>38</td>\n",
              "      <td>1</td>\n",
              "      <td>9</td>\n",
              "      <td>2</td>\n",
              "      <td>7</td>\n",
              "      <td>4</td>\n",
              "      <td>1</td>\n",
              "      <td>40</td>\n",
              "    </tr>\n",
              "    <tr>\n",
              "      <th>3</th>\n",
              "      <td>53</td>\n",
              "      <td>1</td>\n",
              "      <td>7</td>\n",
              "      <td>1</td>\n",
              "      <td>7</td>\n",
              "      <td>3</td>\n",
              "      <td>4</td>\n",
              "      <td>40</td>\n",
              "    </tr>\n",
              "    <tr>\n",
              "      <th>4</th>\n",
              "      <td>28</td>\n",
              "      <td>1</td>\n",
              "      <td>13</td>\n",
              "      <td>1</td>\n",
              "      <td>6</td>\n",
              "      <td>1</td>\n",
              "      <td>4</td>\n",
              "      <td>40</td>\n",
              "    </tr>\n",
              "    <tr>\n",
              "      <th>...</th>\n",
              "      <td>...</td>\n",
              "      <td>...</td>\n",
              "      <td>...</td>\n",
              "      <td>...</td>\n",
              "      <td>...</td>\n",
              "      <td>...</td>\n",
              "      <td>...</td>\n",
              "      <td>...</td>\n",
              "    </tr>\n",
              "    <tr>\n",
              "      <th>32556</th>\n",
              "      <td>27</td>\n",
              "      <td>1</td>\n",
              "      <td>12</td>\n",
              "      <td>1</td>\n",
              "      <td>1</td>\n",
              "      <td>1</td>\n",
              "      <td>1</td>\n",
              "      <td>38</td>\n",
              "    </tr>\n",
              "    <tr>\n",
              "      <th>32557</th>\n",
              "      <td>40</td>\n",
              "      <td>1</td>\n",
              "      <td>9</td>\n",
              "      <td>1</td>\n",
              "      <td>8</td>\n",
              "      <td>3</td>\n",
              "      <td>1</td>\n",
              "      <td>40</td>\n",
              "    </tr>\n",
              "    <tr>\n",
              "      <th>32558</th>\n",
              "      <td>58</td>\n",
              "      <td>1</td>\n",
              "      <td>9</td>\n",
              "      <td>5</td>\n",
              "      <td>9</td>\n",
              "      <td>6</td>\n",
              "      <td>1</td>\n",
              "      <td>40</td>\n",
              "    </tr>\n",
              "    <tr>\n",
              "      <th>32559</th>\n",
              "      <td>22</td>\n",
              "      <td>1</td>\n",
              "      <td>9</td>\n",
              "      <td>3</td>\n",
              "      <td>9</td>\n",
              "      <td>2</td>\n",
              "      <td>1</td>\n",
              "      <td>20</td>\n",
              "    </tr>\n",
              "    <tr>\n",
              "      <th>32560</th>\n",
              "      <td>52</td>\n",
              "      <td>3</td>\n",
              "      <td>9</td>\n",
              "      <td>1</td>\n",
              "      <td>5</td>\n",
              "      <td>1</td>\n",
              "      <td>1</td>\n",
              "      <td>40</td>\n",
              "    </tr>\n",
              "  </tbody>\n",
              "</table>\n",
              "<p>32561 rows × 8 columns</p>\n",
              "</div>"
            ],
            "text/plain": [
              "       Edad  T. Trabajo  Nivel Educativo  E. Civil  Ocupación  T. Pareja  \\\n",
              "0        39           6               13         3          9          4   \n",
              "1        50           2               13         1          5          3   \n",
              "2        38           1                9         2          7          4   \n",
              "3        53           1                7         1          7          3   \n",
              "4        28           1               13         1          6          1   \n",
              "...     ...         ...              ...       ...        ...        ...   \n",
              "32556    27           1               12         1          1          1   \n",
              "32557    40           1                9         1          8          3   \n",
              "32558    58           1                9         5          9          6   \n",
              "32559    22           1                9         3          9          2   \n",
              "32560    52           3                9         1          5          1   \n",
              "\n",
              "       Raza  H.Laborales  \n",
              "0         1           40  \n",
              "1         1           13  \n",
              "2         1           40  \n",
              "3         4           40  \n",
              "4         4           40  \n",
              "...     ...          ...  \n",
              "32556     1           38  \n",
              "32557     1           40  \n",
              "32558     1           40  \n",
              "32559     1           20  \n",
              "32560     1           40  \n",
              "\n",
              "[32561 rows x 8 columns]"
            ]
          },
          "execution_count": 38,
          "metadata": {},
          "output_type": "execute_result"
        }
      ],
      "source": [
        "DataB = DataB.drop(['Pais de Origen'], axis=1)\n",
        "\n",
        "DataB"
      ]
    },
    {
      "cell_type": "code",
      "execution_count": 39,
      "metadata": {
        "id": "0qgVcyBvSn8m"
      },
      "outputs": [],
      "source": [
        "#Preparo los datos para el entrenamiento decidi usar el 70% de los datos para esto\n",
        "# por el documento de analisis de Algoritmos, dejando el 30% para el testeo\n",
        "\n",
        "y = DataF[\"Capital\"]\n",
        "X= DataB\n",
        "\n",
        "X_train, X_test, y_train, y_test = train_test_split(X,y,test_size=0.3, random_state=42,stratify=y)\n",
        "\n",
        "sc = StandardScaler()\n",
        "X_train_array = sc.fit_transform(X_train.values)\n",
        "X_train = pd.DataFrame(X_train_array, index=X_train.index, columns=X_train.columns)\n",
        "X_test_array = sc.transform(X_test.values)\n",
        "X_test = pd.DataFrame(X_test_array, index=X_test.index, columns=X_test.columns)"
      ]
    },
    {
      "cell_type": "code",
      "execution_count": 40,
      "metadata": {
        "colab": {
          "base_uri": "https://localhost:8080/"
        },
        "id": "H8I8oLAWSqPC",
        "outputId": "5649128d-1da6-406d-b112-cbb27fcbe937"
      },
      "outputs": [
        {
          "name": "stdout",
          "output_type": "stream",
          "text": [
            "0.8307912785341386\n"
          ]
        },
        {
          "data": {
            "image/png": "[encoded data removed]",
            "text/plain": [
              "<Figure size 432x288 with 2 Axes>"
            ]
          },
          "metadata": {
            "needs_background": "light"
          },
          "output_type": "display_data"
        }
      ],
      "source": [
        "#Modelo con Kernel RBF\n",
        "SegmentacionSalarial = svm.SVC()\n",
        "SegmentacionSalarial.fit(X_train, y_train)\n",
        "\n",
        "Y = SegmentacionSalarial.predict(X_test)\n",
        "Acc_4 = SegmentacionSalarial.score(X_test,y_test)\n",
        "print(Acc_4)\n",
        "confusion_matrix(Y, y_test)\n",
        "\n",
        "plot_confusion_matrix(SegmentacionSalarial, X_test, y_test)  \n",
        "plt.show()"
      ]
    },
    {
      "cell_type": "markdown",
      "metadata": {
        "id": "yn13XdbRGnMk"
      },
      "source": [
        "### Comparación y Analisis"
      ]
    },
    {
      "cell_type": "code",
      "execution_count": 41,
      "metadata": {
        "colab": {
          "base_uri": "https://localhost:8080/",
          "height": 626
        },
        "id": "rx1_S9S4GFVp",
        "outputId": "1fb6480c-b9fa-4387-c44f-5e0e5dd80818"
      },
      "outputs": [
        {
          "data": {
            "text/plain": [
              "Text(0.5, 1.0, 'Comparativa del % de Precisión sobre el 82.8%')"
            ]
          },
          "execution_count": 41,
          "metadata": {},
          "output_type": "execute_result"
        },
        {
          "data": {
            "image/png": "[encoded data removed]",
            "text/plain": [
              "<Figure size 720x720 with 1 Axes>"
            ]
          },
          "metadata": {
            "needs_background": "light"
          },
          "output_type": "display_data"
        }
      ],
      "source": [
        "fig, ax = plt.subplots()\n",
        "fig.set_size_inches(10, 10)\n",
        "accuracy_1 = Acc_1*100-82.8\n",
        "accuracy_2 = Acc_2*100-82.8\n",
        "accuracy_3 = Acc_3*100-82.8\n",
        "accuracy_4 = Acc_4*100-82.8\n",
        "sns.barplot(x=[ \"Precisión con todos los datos\", \"Precisión sin Pais de O.\", \"Precisión sin Genero B.\", \"Precisión sin G.B. ni P.O.\"],\n",
        "            y=[ accuracy_2, accuracy_1, accuracy_3, accuracy_4])\n",
        "ax.set_title('Comparativa del % de Precisión sobre el 82.8%',\n",
        "             fontsize=16, weight=\"bold\")\n",
        "\n",
        "#En todos los casos se tomaron los resultados con Kernel RBF pues fue el mejor resultado en cada caso"
      ]
    },
    {
      "cell_type": "markdown",
      "metadata": {
        "id": "PAl6-pcTubKO"
      },
      "source": [
        "## Support Vector Machines (Sin sesgo)"
      ]
    },
    {
      "cell_type": "markdown",
      "metadata": {
        "id": "Y5EV06AZoQW1"
      },
      "source": [
        "### Reduccion de sesgo"
      ]
    },
    {
      "cell_type": "code",
      "execution_count": 45,
      "metadata": {
        "colab": {
          "base_uri": "https://localhost:8080/"
        },
        "id": "MbC8WGu5rNgw",
        "outputId": "b5e35171-3cf5-46ad-add0-1372b3ad0064"
      },
      "outputs": [
        {
          "data": {
            "text/html": [
              "<div>\n",
              "<style scoped>\n",
              "    .dataframe tbody tr th:only-of-type {\n",
              "        vertical-align: middle;\n",
              "    }\n",
              "\n",
              "    .dataframe tbody tr th {\n",
              "        vertical-align: top;\n",
              "    }\n",
              "\n",
              "    .dataframe thead th {\n",
              "        text-align: right;\n",
              "    }\n",
              "</style>\n",
              "<table border=\"1\" class=\"dataframe\">\n",
              "  <thead>\n",
              "    <tr style=\"text-align: right;\">\n",
              "      <th></th>\n",
              "      <th>Age</th>\n",
              "      <th>Workclass</th>\n",
              "      <th>fnlwgt</th>\n",
              "      <th>Education</th>\n",
              "      <th>Education-num</th>\n",
              "      <th>Marital-Status</th>\n",
              "      <th>Occupation</th>\n",
              "      <th>Relationship</th>\n",
              "      <th>Race</th>\n",
              "      <th>Sex</th>\n",
              "      <th>Capital-gain</th>\n",
              "      <th>Capital-loss</th>\n",
              "      <th>Hours-per-Week</th>\n",
              "      <th>Native-Country</th>\n",
              "      <th>Capital</th>\n",
              "    </tr>\n",
              "  </thead>\n",
              "  <tbody>\n",
              "    <tr>\n",
              "      <th>0</th>\n",
              "      <td>39</td>\n",
              "      <td>State-gov</td>\n",
              "      <td>77516</td>\n",
              "      <td>Bachelors</td>\n",
              "      <td>13</td>\n",
              "      <td>Never-married</td>\n",
              "      <td>Adm-clerical</td>\n",
              "      <td>Not-in-family</td>\n",
              "      <td>White</td>\n",
              "      <td>Male</td>\n",
              "      <td>2174</td>\n",
              "      <td>0</td>\n",
              "      <td>40</td>\n",
              "      <td>United-States</td>\n",
              "      <td>-1</td>\n",
              "    </tr>\n",
              "    <tr>\n",
              "      <th>1</th>\n",
              "      <td>50</td>\n",
              "      <td>Self-emp-not-inc</td>\n",
              "      <td>83311</td>\n",
              "      <td>Bachelors</td>\n",
              "      <td>13</td>\n",
              "      <td>Married-civ-spouse</td>\n",
              "      <td>Exec-managerial</td>\n",
              "      <td>Husband</td>\n",
              "      <td>White</td>\n",
              "      <td>Male</td>\n",
              "      <td>0</td>\n",
              "      <td>0</td>\n",
              "      <td>13</td>\n",
              "      <td>United-States</td>\n",
              "      <td>-1</td>\n",
              "    </tr>\n",
              "    <tr>\n",
              "      <th>2</th>\n",
              "      <td>38</td>\n",
              "      <td>Private</td>\n",
              "      <td>215646</td>\n",
              "      <td>HS-grad</td>\n",
              "      <td>9</td>\n",
              "      <td>Divorced</td>\n",
              "      <td>Handlers-cleaners</td>\n",
              "      <td>Not-in-family</td>\n",
              "      <td>White</td>\n",
              "      <td>Male</td>\n",
              "      <td>0</td>\n",
              "      <td>0</td>\n",
              "      <td>40</td>\n",
              "      <td>United-States</td>\n",
              "      <td>-1</td>\n",
              "    </tr>\n",
              "    <tr>\n",
              "      <th>3</th>\n",
              "      <td>53</td>\n",
              "      <td>Private</td>\n",
              "      <td>234721</td>\n",
              "      <td>11th</td>\n",
              "      <td>7</td>\n",
              "      <td>Married-civ-spouse</td>\n",
              "      <td>Handlers-cleaners</td>\n",
              "      <td>Husband</td>\n",
              "      <td>Black</td>\n",
              "      <td>Male</td>\n",
              "      <td>0</td>\n",
              "      <td>0</td>\n",
              "      <td>40</td>\n",
              "      <td>United-States</td>\n",
              "      <td>-1</td>\n",
              "    </tr>\n",
              "    <tr>\n",
              "      <th>4</th>\n",
              "      <td>28</td>\n",
              "      <td>Private</td>\n",
              "      <td>338409</td>\n",
              "      <td>Bachelors</td>\n",
              "      <td>13</td>\n",
              "      <td>Married-civ-spouse</td>\n",
              "      <td>Prof-specialty</td>\n",
              "      <td>Wife</td>\n",
              "      <td>Black</td>\n",
              "      <td>Female</td>\n",
              "      <td>0</td>\n",
              "      <td>0</td>\n",
              "      <td>40</td>\n",
              "      <td>Cuba</td>\n",
              "      <td>-1</td>\n",
              "    </tr>\n",
              "  </tbody>\n",
              "</table>\n",
              "</div>"
            ],
            "text/plain": [
              "   Age          Workclass  fnlwgt   Education  Education-num  \\\n",
              "0   39          State-gov   77516   Bachelors             13   \n",
              "1   50   Self-emp-not-inc   83311   Bachelors             13   \n",
              "2   38            Private  215646     HS-grad              9   \n",
              "3   53            Private  234721        11th              7   \n",
              "4   28            Private  338409   Bachelors             13   \n",
              "\n",
              "        Marital-Status          Occupation    Relationship    Race      Sex  \\\n",
              "0        Never-married        Adm-clerical   Not-in-family   White     Male   \n",
              "1   Married-civ-spouse     Exec-managerial         Husband   White     Male   \n",
              "2             Divorced   Handlers-cleaners   Not-in-family   White     Male   \n",
              "3   Married-civ-spouse   Handlers-cleaners         Husband   Black     Male   \n",
              "4   Married-civ-spouse      Prof-specialty            Wife   Black   Female   \n",
              "\n",
              "   Capital-gain  Capital-loss  Hours-per-Week  Native-Country  Capital  \n",
              "0          2174             0              40   United-States       -1  \n",
              "1             0             0              13   United-States       -1  \n",
              "2             0             0              40   United-States       -1  \n",
              "3             0             0              40   United-States       -1  \n",
              "4             0             0              40            Cuba       -1  "
            ]
          },
          "execution_count": 45,
          "metadata": {},
          "output_type": "execute_result"
        }
      ],
      "source": [
        "#Inicializar la base de datos original\n",
        "DataF = pd.read_csv(r'C:\\Users\\ASUS\\Desktop\\Examples SVM\\Adult Classification\\Data\\adult_data.csv', names = columns)\n",
        "\n",
        "def CapitalIndicator(Capital):\n",
        "  if (\"<\" in Capital):\n",
        "    return (-1)\n",
        "  if (\">\" in Capital):\n",
        "    return (1)\n",
        "\n",
        "#Podemos definir funciones y crear nuevas columnas con datos generados a partir de los datos ya existentes\n",
        "DataF[\"Capital\"] = DataF[\"Capital\"].apply(CapitalIndicator)\n",
        "DataF.head()"
      ]
    },
    {
      "cell_type": "markdown",
      "metadata": {
        "id": "8IW-j1wGrWr4"
      },
      "source": [
        "A continuacion mostraremos el conteo de datos en ambas clases del conjunto de datos ($<50$ y $>50$) para denotar que la base esta sesgada a los datos de $<50$ , analogo al caso descrito en el articulo [Credit Fraud Detector](https://www.kaggle.com/janiobachmann/credit-fraud-dealing-with-imbalanced-datasets), haremos un pequeño tratamiento de los datos con el objetivo de comparar los resultados entre las SVM concervando el sesgo y despues de eliminarlo."
      ]
    },
    {
      "cell_type": "code",
      "execution_count": 48,
      "metadata": {
        "colab": {
          "base_uri": "https://localhost:8080/"
        },
        "id": "3_BKBws2M0jP",
        "outputId": "cc407c24-8699-4720-aae6-65e92ddedf0b"
      },
      "outputs": [
        {
          "name": "stderr",
          "output_type": "stream",
          "text": [
            "c:\\Users\\ASUS\\anaconda3\\lib\\site-packages\\seaborn\\_decorators.py:36: FutureWarning: Pass the following variable as a keyword arg: x. From version 0.12, the only valid positional argument will be `data`, and passing other arguments without an explicit keyword will result in an error or misinterpretation.\n",
            "  warnings.warn(\n"
          ]
        },
        {
          "data": {
            "image/png": "[encoded data removed]",
            "text/plain": [
              "<Figure size 720x576 with 1 Axes>"
            ]
          },
          "metadata": {
            "needs_background": "light"
          },
          "output_type": "display_data"
        }
      ],
      "source": [
        "f, ax = plt.subplots(figsize=(10, 8))\n",
        "ax = sns.countplot('Capital', data=DataF)\n",
        "\n",
        "plt.show()"
      ]
    },
    {
      "cell_type": "code",
      "execution_count": 49,
      "metadata": {
        "colab": {
          "base_uri": "https://localhost:8080/"
        },
        "id": "eDa1l4R7PMT_",
        "outputId": "30a1c0f4-2eb0-4da6-8125-b96f78c39759"
      },
      "outputs": [
        {
          "name": "stderr",
          "output_type": "stream",
          "text": [
            "c:\\Users\\ASUS\\anaconda3\\lib\\site-packages\\seaborn\\_decorators.py:36: FutureWarning: Pass the following variable as a keyword arg: x. From version 0.12, the only valid positional argument will be `data`, and passing other arguments without an explicit keyword will result in an error or misinterpretation.\n",
            "  warnings.warn(\n"
          ]
        },
        {
          "data": {
            "image/png": "[encoded data removed]",
            "text/plain": [
              "<Figure size 720x576 with 1 Axes>"
            ]
          },
          "metadata": {
            "needs_background": "light"
          },
          "output_type": "display_data"
        }
      ],
      "source": [
        "Data_Frame0 = DataF.loc[DataF['Capital'] == -1][:10000]\n",
        "Data_Frame1 = DataF.loc[DataF['Capital'] == 1][:10000]\n",
        "\n",
        "DataF = pd.concat([Data_Frame0,Data_Frame1])\n",
        "\n",
        "f, ax = plt.subplots(figsize=(10, 8))\n",
        "ax = sns.countplot('Capital', data=DataF)\n",
        "\n",
        "plt.show()"
      ]
    },
    {
      "cell_type": "code",
      "execution_count": 50,
      "metadata": {
        "colab": {
          "base_uri": "https://localhost:8080/"
        },
        "id": "qSSR_eKP5lES",
        "outputId": "5cf5edbe-9f6b-411d-e624-b2404a16782c"
      },
      "outputs": [
        {
          "data": {
            "text/html": [
              "<div>\n",
              "<style scoped>\n",
              "    .dataframe tbody tr th:only-of-type {\n",
              "        vertical-align: middle;\n",
              "    }\n",
              "\n",
              "    .dataframe tbody tr th {\n",
              "        vertical-align: top;\n",
              "    }\n",
              "\n",
              "    .dataframe thead th {\n",
              "        text-align: right;\n",
              "    }\n",
              "</style>\n",
              "<table border=\"1\" class=\"dataframe\">\n",
              "  <thead>\n",
              "    <tr style=\"text-align: right;\">\n",
              "      <th></th>\n",
              "      <th>Edad</th>\n",
              "      <th>T. Trabajo</th>\n",
              "      <th>Nivel Educativo</th>\n",
              "      <th>E. Civil</th>\n",
              "      <th>Ocupación</th>\n",
              "      <th>T. Pareja</th>\n",
              "      <th>Raza</th>\n",
              "      <th>Genero B.</th>\n",
              "      <th>H.Laborales</th>\n",
              "    </tr>\n",
              "  </thead>\n",
              "  <tbody>\n",
              "    <tr>\n",
              "      <th>0</th>\n",
              "      <td>39</td>\n",
              "      <td>6</td>\n",
              "      <td>13</td>\n",
              "      <td>3</td>\n",
              "      <td>9</td>\n",
              "      <td>4</td>\n",
              "      <td>1</td>\n",
              "      <td>2</td>\n",
              "      <td>40</td>\n",
              "    </tr>\n",
              "    <tr>\n",
              "      <th>1</th>\n",
              "      <td>50</td>\n",
              "      <td>2</td>\n",
              "      <td>13</td>\n",
              "      <td>1</td>\n",
              "      <td>5</td>\n",
              "      <td>3</td>\n",
              "      <td>1</td>\n",
              "      <td>2</td>\n",
              "      <td>13</td>\n",
              "    </tr>\n",
              "    <tr>\n",
              "      <th>2</th>\n",
              "      <td>38</td>\n",
              "      <td>1</td>\n",
              "      <td>9</td>\n",
              "      <td>2</td>\n",
              "      <td>7</td>\n",
              "      <td>4</td>\n",
              "      <td>1</td>\n",
              "      <td>2</td>\n",
              "      <td>40</td>\n",
              "    </tr>\n",
              "    <tr>\n",
              "      <th>3</th>\n",
              "      <td>53</td>\n",
              "      <td>1</td>\n",
              "      <td>7</td>\n",
              "      <td>1</td>\n",
              "      <td>7</td>\n",
              "      <td>3</td>\n",
              "      <td>4</td>\n",
              "      <td>2</td>\n",
              "      <td>40</td>\n",
              "    </tr>\n",
              "    <tr>\n",
              "      <th>4</th>\n",
              "      <td>28</td>\n",
              "      <td>1</td>\n",
              "      <td>13</td>\n",
              "      <td>1</td>\n",
              "      <td>6</td>\n",
              "      <td>1</td>\n",
              "      <td>4</td>\n",
              "      <td>1</td>\n",
              "      <td>40</td>\n",
              "    </tr>\n",
              "  </tbody>\n",
              "</table>\n",
              "</div>"
            ],
            "text/plain": [
              "   Edad  T. Trabajo  Nivel Educativo  E. Civil  Ocupación  T. Pareja  Raza  \\\n",
              "0    39           6               13         3          9          4     1   \n",
              "1    50           2               13         1          5          3     1   \n",
              "2    38           1                9         2          7          4     1   \n",
              "3    53           1                7         1          7          3     4   \n",
              "4    28           1               13         1          6          1     4   \n",
              "\n",
              "   Genero B.  H.Laborales  \n",
              "0          2           40  \n",
              "1          2           13  \n",
              "2          2           40  \n",
              "3          2           40  \n",
              "4          1           40  "
            ]
          },
          "execution_count": 50,
          "metadata": {},
          "output_type": "execute_result"
        }
      ],
      "source": [
        "DataB = pd.DataFrame()\n",
        "\n",
        "DataB[\"Edad\"] = DataF[\"Age\"]\n",
        "DataB[\"T. Trabajo\"] = DataF[\"Workclass\"].apply(ClassToType) \n",
        "DataB[\"Nivel Educativo\"] = DataF[\"Education-num\"]\n",
        "DataB[\"E. Civil\"] = DataF[\"Marital-Status\"].apply(StatusToType) \n",
        "DataB[\"Ocupación\"] = DataF[\"Occupation\"].apply(OcupToType)\n",
        "DataB[\"T. Pareja\"] = DataF[\"Relationship\"].apply(RelationToType)\n",
        "DataB[\"Raza\"] = DataF[\"Race\"].apply(RaceToType)\n",
        "DataB[\"Genero B.\"] = DataF[\"Sex\"].apply(SexToType)\n",
        "DataB[\"H.Laborales\"] = DataF[\"Hours-per-Week\"]\n",
        "\n",
        "df = DataB\n",
        "\n",
        "\"\"\"\n",
        "####    Noemalizar no cambio nada   ####\n",
        "\n",
        "def minmax_norm(df_input):\n",
        "    return (df - df.min()) / ( df.max() - df.min())\n",
        "\n",
        "DataB = minmax_norm(df)\n",
        "\"\"\"\n",
        "\n",
        "DataB.head()"
      ]
    },
    {
      "cell_type": "markdown",
      "metadata": {
        "id": "rS5c-c5z6Ce6"
      },
      "source": [
        "### SVM sin Pais de origen"
      ]
    },
    {
      "cell_type": "code",
      "execution_count": 51,
      "metadata": {
        "id": "m47dMzzb6Cfc"
      },
      "outputs": [],
      "source": [
        "#Preparo los datos para el entrenamiento decidi usar el 70% de los datos para esto\n",
        "# por el documento de analisis de Algoritmos, dejando el 30% para el testeo\n",
        "\n",
        "#De todas maneras hice la prueba con otras proporciones pero no mejoraron el resultado\n",
        "\n",
        "y = DataF[\"Capital\"]\n",
        "X= DataB\n",
        "\n",
        "X_train, X_test, y_train, y_test = train_test_split(X,y,test_size=0.3, random_state=42,stratify=y)\n",
        "\n",
        "\n",
        "#?????????????????????????????????????????????????????????????????????????????????????????????????????\n",
        "sc = StandardScaler()\n",
        "X_train_array = sc.fit_transform(X_train.values)\n",
        "X_train = pd.DataFrame(X_train_array, index=X_train.index, columns=X_train.columns)\n",
        "X_test_array = sc.transform(X_test.values)\n",
        "X_test = pd.DataFrame(X_test_array, index=X_test.index, columns=X_test.columns)"
      ]
    },
    {
      "cell_type": "code",
      "execution_count": 52,
      "metadata": {
        "colab": {
          "base_uri": "https://localhost:8080/"
        },
        "id": "wU79Mzod6Cfc",
        "outputId": "b568f42f-14c6-4aea-e34a-2a128490e51a"
      },
      "outputs": [
        {
          "name": "stdout",
          "output_type": "stream",
          "text": [
            "0.7967494862693817\n"
          ]
        },
        {
          "data": {
            "image/png": "[encoded data removed]",
            "text/plain": [
              "<Figure size 432x288 with 2 Axes>"
            ]
          },
          "metadata": {
            "needs_background": "light"
          },
          "output_type": "display_data"
        }
      ],
      "source": [
        "#Modelo con Kernel RBF\n",
        "SegmentacionSalarial = svm.SVC()\n",
        "SegmentacionSalarial.fit(X_train, y_train)\n",
        "\n",
        "Y = SegmentacionSalarial.predict(X_test)\n",
        "Acc_1 = SegmentacionSalarial.score(X_test,y_test)\n",
        "print(Acc_1)\n",
        "confusion_matrix(Y, y_test)\n",
        "\n",
        "plot_confusion_matrix(SegmentacionSalarial, X_test, y_test)  \n",
        "plt.show()"
      ]
    },
    {
      "cell_type": "markdown",
      "metadata": {
        "id": "GfPgWoTk6Cfd"
      },
      "source": [
        "#### Pruebas con otros kernels (No mejoran el resultado)"
      ]
    },
    {
      "cell_type": "code",
      "execution_count": 53,
      "metadata": {
        "colab": {
          "base_uri": "https://localhost:8080/"
        },
        "id": "CeTooCN46Cfe",
        "outputId": "04abfe0a-4f60-45f6-df73-480b531e856e"
      },
      "outputs": [
        {
          "name": "stdout",
          "output_type": "stream",
          "text": [
            "0.7844199514291051\n"
          ]
        },
        {
          "data": {
            "image/png": "[encoded data removed]",
            "text/plain": [
              "<Figure size 432x288 with 2 Axes>"
            ]
          },
          "metadata": {
            "needs_background": "light"
          },
          "output_type": "display_data"
        }
      ],
      "source": [
        "#Modelo con Kernel Linear\n",
        "SegmentacionSalarial = svm.SVC(kernel='linear')\n",
        "SegmentacionSalarial.fit(X_train, y_train)\n",
        "\n",
        "Y = SegmentacionSalarial.predict(X_test)\n",
        "print(SegmentacionSalarial.score(X_test,y_test))\n",
        "confusion_matrix(Y, y_test)\n",
        "\n",
        "plot_confusion_matrix(SegmentacionSalarial, X_test, y_test)  \n",
        "plt.show()"
      ]
    },
    {
      "cell_type": "code",
      "execution_count": 54,
      "metadata": {
        "colab": {
          "base_uri": "https://localhost:8080/"
        },
        "id": "brjCLIS36Cff",
        "outputId": "ba6f1047-5890-471c-9860-13d2b12bfacd"
      },
      "outputs": [
        {
          "name": "stdout",
          "output_type": "stream",
          "text": [
            "0.7778815617410798\n"
          ]
        },
        {
          "data": {
            "image/png": "[encoded data removed]",
            "text/plain": [
              "<Figure size 432x288 with 2 Axes>"
            ]
          },
          "metadata": {
            "needs_background": "light"
          },
          "output_type": "display_data"
        }
      ],
      "source": [
        "#Modelo con Kernel Polinomial\n",
        "SegmentacionSalarial = svm.SVC(kernel='poly')\n",
        "SegmentacionSalarial.fit(X_train, y_train)\n",
        "\n",
        "Y = SegmentacionSalarial.predict(X_test)\n",
        "print(SegmentacionSalarial.score(X_test,y_test))\n",
        "confusion_matrix(Y, y_test)\n",
        "\n",
        "plot_confusion_matrix(SegmentacionSalarial, X_test, y_test)  \n",
        "plt.show()"
      ]
    },
    {
      "cell_type": "code",
      "execution_count": 55,
      "metadata": {
        "colab": {
          "base_uri": "https://localhost:8080/"
        },
        "id": "zxYlokkJ6Cff",
        "outputId": "830f276f-63fa-47d6-e259-cf6e3a2d03b6"
      },
      "outputs": [
        {
          "name": "stdout",
          "output_type": "stream",
          "text": [
            "0.7009153745563236\n"
          ]
        },
        {
          "data": {
            "image/png": "[encoded data removed]",
            "text/plain": [
              "<Figure size 432x288 with 2 Axes>"
            ]
          },
          "metadata": {
            "needs_background": "light"
          },
          "output_type": "display_data"
        }
      ],
      "source": [
        "#Modelo con Kernel Sigmoideal\n",
        "SegmentacionSalarial = svm.SVC(kernel='sigmoid')\n",
        "SegmentacionSalarial.fit(X_train, y_train)\n",
        "\n",
        "Y = SegmentacionSalarial.predict(X_test)\n",
        "print(SegmentacionSalarial.score(X_test,y_test))\n",
        "confusion_matrix(Y, y_test)\n",
        "\n",
        "plot_confusion_matrix(SegmentacionSalarial, X_test, y_test)  \n",
        "plt.show()"
      ]
    },
    {
      "cell_type": "markdown",
      "metadata": {
        "id": "ie1DUe6i_GEL"
      },
      "source": [
        "### SVM Completo\n"
      ]
    },
    {
      "cell_type": "markdown",
      "metadata": {
        "id": "vTlXi96q_GEo"
      },
      "source": [
        "#### Funcion de Pais de Origen (Indicador Numerico)"
      ]
    },
    {
      "cell_type": "code",
      "execution_count": 56,
      "metadata": {
        "id": "-JZ413gt_GEp"
      },
      "outputs": [],
      "source": [
        "#Native-Country (Descriptivo) --> Pais de Origen (Indicador Numerico)\n",
        "def NatToType (X):\n",
        "  if (\"United-States\" in X):\n",
        "    return (1)\n",
        "  if (\"Cambodia\" in X):\n",
        "    return (2)\n",
        "  if (\"England\" in X):\n",
        "    return (3)\n",
        "  if (\"Puerto-Rico\" in X):\n",
        "    return (4)\n",
        "  if (\"Canada\" in X):\n",
        "    return (5)\n",
        "  if (\"Germany\" in X):\n",
        "    return (6)\n",
        "  if (\"Outlying-US\" in X):\n",
        "    return (7)\n",
        "  if (\"India\" in X):\n",
        "    return (8)\n",
        "  if (\"Japan\" in X):\n",
        "    return (9)\n",
        "  if (\"Greece\" in X):\n",
        "    return (10)\n",
        "  if (\"South\" in X):\n",
        "    return (11)\n",
        "  if (\"China\" in X):\n",
        "    return (12)\n",
        "  if (\"Cuba\" in X):\n",
        "    return (13)\n",
        "  if (\"Iran\" in X):\n",
        "    return (14)  \n",
        "  if (\"Honduras\" in X):\n",
        "    return (15)\n",
        "  if (\"Philippines\" in X):\n",
        "    return (16)\n",
        "  if (\"Italy\" in X):\n",
        "    return (17)\n",
        "  if (\"Poland\" in X):\n",
        "    return (18)\n",
        "  if (\"Jamaica\" in X):\n",
        "    return (19)\n",
        "  if (\"Vietnam\" in X):\n",
        "    return (20)\n",
        "  if (\"Mexico\" in X):\n",
        "    return (21)\n",
        "  if (\"Portugal\" in X):\n",
        "    return (22)\n",
        "  if (\"Ireland\" in X):\n",
        "    return (23)\n",
        "  if (\"France\" in X):\n",
        "    return (24)\n",
        "  if (\"Dominican-Republic\" in X):\n",
        "    return (25)\n",
        "  if (\"Laos\" in X):\n",
        "    return (26)\n",
        "  if (\"Ecuador\" in X):\n",
        "    return (27)\n",
        "  if (\"Taiwan\" in X):\n",
        "    return (28)\n",
        "  if (\"Haiti\" in X):\n",
        "    return (29)\n",
        "  if (\"Columbia\" in X):\n",
        "    return (30)\n",
        "  if (\"Hungary\" in X):\n",
        "    return (31)\n",
        "  if (\"Guatemala\" in X):\n",
        "    return (32)\n",
        "  if (\"Nicaragua\" in X):\n",
        "    return (33)\n",
        "  if (\"Scotland\" in X):\n",
        "    return (34)\n",
        "  if (\"Thailand\" in X):\n",
        "    return (35)\n",
        "  if (\"Yugoslavia\" in X):\n",
        "    return (36)\n",
        "  if (\"El-Salvador\" in X):\n",
        "    return (37)\n",
        "  if (\"Trinadad&Tobago\" in X):\n",
        "    return (38)\n",
        "  if (\"Peru\" in X):\n",
        "    return (39)\n",
        "  if (\"Hong\" in X):\n",
        "    return (40)\n",
        "  if (\"Holand-Netherlands\" in X):\n",
        "    return (41)\n",
        "  else:\n",
        "    return (0)"
      ]
    },
    {
      "cell_type": "markdown",
      "metadata": {
        "id": "hVXp7Pav_GEp"
      },
      "source": [
        "#### Ejecución "
      ]
    },
    {
      "cell_type": "code",
      "execution_count": 57,
      "metadata": {
        "colab": {
          "base_uri": "https://localhost:8080/"
        },
        "id": "VMJwikDn_GEq",
        "outputId": "128cbf21-12be-4aaa-b234-b3d403450dd0"
      },
      "outputs": [
        {
          "data": {
            "text/html": [
              "<div>\n",
              "<style scoped>\n",
              "    .dataframe tbody tr th:only-of-type {\n",
              "        vertical-align: middle;\n",
              "    }\n",
              "\n",
              "    .dataframe tbody tr th {\n",
              "        vertical-align: top;\n",
              "    }\n",
              "\n",
              "    .dataframe thead th {\n",
              "        text-align: right;\n",
              "    }\n",
              "</style>\n",
              "<table border=\"1\" class=\"dataframe\">\n",
              "  <thead>\n",
              "    <tr style=\"text-align: right;\">\n",
              "      <th></th>\n",
              "      <th>Edad</th>\n",
              "      <th>T. Trabajo</th>\n",
              "      <th>Nivel Educativo</th>\n",
              "      <th>E. Civil</th>\n",
              "      <th>Ocupación</th>\n",
              "      <th>T. Pareja</th>\n",
              "      <th>Raza</th>\n",
              "      <th>Genero B.</th>\n",
              "      <th>H.Laborales</th>\n",
              "      <th>Pais de Origen</th>\n",
              "    </tr>\n",
              "  </thead>\n",
              "  <tbody>\n",
              "    <tr>\n",
              "      <th>0</th>\n",
              "      <td>39</td>\n",
              "      <td>6</td>\n",
              "      <td>13</td>\n",
              "      <td>3</td>\n",
              "      <td>9</td>\n",
              "      <td>4</td>\n",
              "      <td>1</td>\n",
              "      <td>2</td>\n",
              "      <td>40</td>\n",
              "      <td>1</td>\n",
              "    </tr>\n",
              "    <tr>\n",
              "      <th>1</th>\n",
              "      <td>50</td>\n",
              "      <td>2</td>\n",
              "      <td>13</td>\n",
              "      <td>1</td>\n",
              "      <td>5</td>\n",
              "      <td>3</td>\n",
              "      <td>1</td>\n",
              "      <td>2</td>\n",
              "      <td>13</td>\n",
              "      <td>1</td>\n",
              "    </tr>\n",
              "    <tr>\n",
              "      <th>2</th>\n",
              "      <td>38</td>\n",
              "      <td>1</td>\n",
              "      <td>9</td>\n",
              "      <td>2</td>\n",
              "      <td>7</td>\n",
              "      <td>4</td>\n",
              "      <td>1</td>\n",
              "      <td>2</td>\n",
              "      <td>40</td>\n",
              "      <td>1</td>\n",
              "    </tr>\n",
              "    <tr>\n",
              "      <th>3</th>\n",
              "      <td>53</td>\n",
              "      <td>1</td>\n",
              "      <td>7</td>\n",
              "      <td>1</td>\n",
              "      <td>7</td>\n",
              "      <td>3</td>\n",
              "      <td>4</td>\n",
              "      <td>2</td>\n",
              "      <td>40</td>\n",
              "      <td>1</td>\n",
              "    </tr>\n",
              "    <tr>\n",
              "      <th>4</th>\n",
              "      <td>28</td>\n",
              "      <td>1</td>\n",
              "      <td>13</td>\n",
              "      <td>1</td>\n",
              "      <td>6</td>\n",
              "      <td>1</td>\n",
              "      <td>4</td>\n",
              "      <td>1</td>\n",
              "      <td>40</td>\n",
              "      <td>13</td>\n",
              "    </tr>\n",
              "  </tbody>\n",
              "</table>\n",
              "</div>"
            ],
            "text/plain": [
              "   Edad  T. Trabajo  Nivel Educativo  E. Civil  Ocupación  T. Pareja  Raza  \\\n",
              "0    39           6               13         3          9          4     1   \n",
              "1    50           2               13         1          5          3     1   \n",
              "2    38           1                9         2          7          4     1   \n",
              "3    53           1                7         1          7          3     4   \n",
              "4    28           1               13         1          6          1     4   \n",
              "\n",
              "   Genero B.  H.Laborales  Pais de Origen  \n",
              "0          2           40               1  \n",
              "1          2           13               1  \n",
              "2          2           40               1  \n",
              "3          2           40               1  \n",
              "4          1           40              13  "
            ]
          },
          "execution_count": 57,
          "metadata": {},
          "output_type": "execute_result"
        }
      ],
      "source": [
        "DataB[\"Pais de Origen\"] = DataF[\"Native-Country\"].apply(NatToType)\n",
        "\n",
        "DataB.head()"
      ]
    },
    {
      "cell_type": "code",
      "execution_count": 58,
      "metadata": {
        "id": "dGSzCty2_GEr"
      },
      "outputs": [],
      "source": [
        "#Preparo los datos para el entrenamiento decidi usar el 70% de los datos para esto\n",
        "# por el documento de analisis de Algoritmos, dejando el 30% para el testeo\n",
        "\n",
        "y = DataF[\"Capital\"]\n",
        "X= DataB\n",
        "\n",
        "X_train, X_test, y_train, y_test = train_test_split(X,y,test_size=0.3, random_state=42,stratify=y)\n",
        "\n",
        "sc = StandardScaler()\n",
        "X_train_array = sc.fit_transform(X_train.values)\n",
        "X_train = pd.DataFrame(X_train_array, index=X_train.index, columns=X_train.columns)\n",
        "X_test_array = sc.transform(X_test.values)\n",
        "X_test = pd.DataFrame(X_test_array, index=X_test.index, columns=X_test.columns)"
      ]
    },
    {
      "cell_type": "code",
      "execution_count": 59,
      "metadata": {
        "colab": {
          "base_uri": "https://localhost:8080/"
        },
        "id": "Qw1GQ0KY_GEr",
        "outputId": "d5d92eb9-66c8-4c36-bcfc-b2d64d0ddbb6"
      },
      "outputs": [
        {
          "name": "stdout",
          "output_type": "stream",
          "text": [
            "0.7950681860638894\n"
          ]
        },
        {
          "data": {
            "image/png": "[encoded data removed]",
            "text/plain": [
              "<Figure size 432x288 with 2 Axes>"
            ]
          },
          "metadata": {
            "needs_background": "light"
          },
          "output_type": "display_data"
        }
      ],
      "source": [
        "#Modelo con Kernel RBF\n",
        "SegmentacionSalarial = svm.SVC()\n",
        "SegmentacionSalarial.fit(X_train, y_train)\n",
        "\n",
        "Y = SegmentacionSalarial.predict(X_test)\n",
        "Acc_2 = SegmentacionSalarial.score(X_test,y_test)\n",
        "print(Acc_2)\n",
        "confusion_matrix(Y, y_test)\n",
        "\n",
        "plot_confusion_matrix(SegmentacionSalarial, X_test, y_test)  \n",
        "plt.show()"
      ]
    },
    {
      "cell_type": "markdown",
      "metadata": {
        "id": "G-YZQA4E_GEr"
      },
      "source": [
        "#### Pruebas con otros kernels (No mejoran el resultado)"
      ]
    },
    {
      "cell_type": "code",
      "execution_count": 60,
      "metadata": {
        "colab": {
          "base_uri": "https://localhost:8080/"
        },
        "id": "OuE_CRUq_GEs",
        "outputId": "82bab395-bae0-42fd-b504-5fd202326a95"
      },
      "outputs": [
        {
          "name": "stdout",
          "output_type": "stream",
          "text": [
            "0.7859144405006538\n"
          ]
        },
        {
          "data": {
            "image/png": "[encoded data removed]",
            "text/plain": [
              "<Figure size 432x288 with 2 Axes>"
            ]
          },
          "metadata": {
            "needs_background": "light"
          },
          "output_type": "display_data"
        }
      ],
      "source": [
        "#Modelo con Kernel Linear\n",
        "SegmentacionSalarial = svm.SVC(kernel='linear')\n",
        "SegmentacionSalarial.fit(X_train, y_train)\n",
        "\n",
        "Y = SegmentacionSalarial.predict(X_test)\n",
        "print(SegmentacionSalarial.score(X_test,y_test))\n",
        "confusion_matrix(Y, y_test)\n",
        "\n",
        "plot_confusion_matrix(SegmentacionSalarial, X_test, y_test)  \n",
        "plt.show()"
      ]
    },
    {
      "cell_type": "code",
      "execution_count": 61,
      "metadata": {
        "colab": {
          "base_uri": "https://localhost:8080/"
        },
        "id": "qaFuoBXH_GEs",
        "outputId": "4ccfc078-9947-4b83-ec21-9ec7c397f463"
      },
      "outputs": [
        {
          "name": "stdout",
          "output_type": "stream",
          "text": [
            "0.7790024285447412\n"
          ]
        },
        {
          "data": {
            "image/png": "[encoded data removed]",
            "text/plain": [
              "<Figure size 432x288 with 2 Axes>"
            ]
          },
          "metadata": {
            "needs_background": "light"
          },
          "output_type": "display_data"
        }
      ],
      "source": [
        "#Modelo con Kernel Polinomial\n",
        "SegmentacionSalarial = svm.SVC(kernel='poly')\n",
        "SegmentacionSalarial.fit(X_train, y_train)\n",
        "\n",
        "Y = SegmentacionSalarial.predict(X_test)\n",
        "print(SegmentacionSalarial.score(X_test,y_test))\n",
        "confusion_matrix(Y, y_test)\n",
        "\n",
        "plot_confusion_matrix(SegmentacionSalarial, X_test, y_test)  \n",
        "plt.show()"
      ]
    },
    {
      "cell_type": "code",
      "execution_count": 62,
      "metadata": {
        "colab": {
          "base_uri": "https://localhost:8080/"
        },
        "id": "-ECxmBmO_GEt",
        "outputId": "ad9e3299-518e-4ef6-e091-08ae19eb5714"
      },
      "outputs": [
        {
          "name": "stdout",
          "output_type": "stream",
          "text": [
            "0.7152998318699795\n"
          ]
        },
        {
          "data": {
            "image/png": "[encoded data removed]",
            "text/plain": [
              "<Figure size 432x288 with 2 Axes>"
            ]
          },
          "metadata": {
            "needs_background": "light"
          },
          "output_type": "display_data"
        }
      ],
      "source": [
        "#Modelo con Kernel Sigmoideal\n",
        "SegmentacionSalarial = svm.SVC(kernel='sigmoid')\n",
        "SegmentacionSalarial.fit(X_train, y_train)\n",
        "\n",
        "Y = SegmentacionSalarial.predict(X_test)\n",
        "print(SegmentacionSalarial.score(X_test,y_test))\n",
        "confusion_matrix(Y, y_test)\n",
        "\n",
        "plot_confusion_matrix(SegmentacionSalarial, X_test, y_test)  \n",
        "plt.show()"
      ]
    },
    {
      "cell_type": "markdown",
      "metadata": {
        "id": "qQfC1ezC_GEt"
      },
      "source": [
        "### SVM sin Genero B. "
      ]
    },
    {
      "cell_type": "code",
      "execution_count": 63,
      "metadata": {
        "colab": {
          "base_uri": "https://localhost:8080/"
        },
        "id": "o-EIvxiR_GEu",
        "outputId": "ae253be2-dd33-4f9c-ca44-1df04b839695"
      },
      "outputs": [
        {
          "data": {
            "text/html": [
              "<div>\n",
              "<style scoped>\n",
              "    .dataframe tbody tr th:only-of-type {\n",
              "        vertical-align: middle;\n",
              "    }\n",
              "\n",
              "    .dataframe tbody tr th {\n",
              "        vertical-align: top;\n",
              "    }\n",
              "\n",
              "    .dataframe thead th {\n",
              "        text-align: right;\n",
              "    }\n",
              "</style>\n",
              "<table border=\"1\" class=\"dataframe\">\n",
              "  <thead>\n",
              "    <tr style=\"text-align: right;\">\n",
              "      <th></th>\n",
              "      <th>Edad</th>\n",
              "      <th>T. Trabajo</th>\n",
              "      <th>Nivel Educativo</th>\n",
              "      <th>E. Civil</th>\n",
              "      <th>Ocupación</th>\n",
              "      <th>T. Pareja</th>\n",
              "      <th>Raza</th>\n",
              "      <th>H.Laborales</th>\n",
              "      <th>Pais de Origen</th>\n",
              "    </tr>\n",
              "  </thead>\n",
              "  <tbody>\n",
              "    <tr>\n",
              "      <th>0</th>\n",
              "      <td>39</td>\n",
              "      <td>6</td>\n",
              "      <td>13</td>\n",
              "      <td>3</td>\n",
              "      <td>9</td>\n",
              "      <td>4</td>\n",
              "      <td>1</td>\n",
              "      <td>40</td>\n",
              "      <td>1</td>\n",
              "    </tr>\n",
              "    <tr>\n",
              "      <th>1</th>\n",
              "      <td>50</td>\n",
              "      <td>2</td>\n",
              "      <td>13</td>\n",
              "      <td>1</td>\n",
              "      <td>5</td>\n",
              "      <td>3</td>\n",
              "      <td>1</td>\n",
              "      <td>13</td>\n",
              "      <td>1</td>\n",
              "    </tr>\n",
              "    <tr>\n",
              "      <th>2</th>\n",
              "      <td>38</td>\n",
              "      <td>1</td>\n",
              "      <td>9</td>\n",
              "      <td>2</td>\n",
              "      <td>7</td>\n",
              "      <td>4</td>\n",
              "      <td>1</td>\n",
              "      <td>40</td>\n",
              "      <td>1</td>\n",
              "    </tr>\n",
              "    <tr>\n",
              "      <th>3</th>\n",
              "      <td>53</td>\n",
              "      <td>1</td>\n",
              "      <td>7</td>\n",
              "      <td>1</td>\n",
              "      <td>7</td>\n",
              "      <td>3</td>\n",
              "      <td>4</td>\n",
              "      <td>40</td>\n",
              "      <td>1</td>\n",
              "    </tr>\n",
              "    <tr>\n",
              "      <th>4</th>\n",
              "      <td>28</td>\n",
              "      <td>1</td>\n",
              "      <td>13</td>\n",
              "      <td>1</td>\n",
              "      <td>6</td>\n",
              "      <td>1</td>\n",
              "      <td>4</td>\n",
              "      <td>40</td>\n",
              "      <td>13</td>\n",
              "    </tr>\n",
              "  </tbody>\n",
              "</table>\n",
              "</div>"
            ],
            "text/plain": [
              "   Edad  T. Trabajo  Nivel Educativo  E. Civil  Ocupación  T. Pareja  Raza  \\\n",
              "0    39           6               13         3          9          4     1   \n",
              "1    50           2               13         1          5          3     1   \n",
              "2    38           1                9         2          7          4     1   \n",
              "3    53           1                7         1          7          3     4   \n",
              "4    28           1               13         1          6          1     4   \n",
              "\n",
              "   H.Laborales  Pais de Origen  \n",
              "0           40               1  \n",
              "1           13               1  \n",
              "2           40               1  \n",
              "3           40               1  \n",
              "4           40              13  "
            ]
          },
          "execution_count": 63,
          "metadata": {},
          "output_type": "execute_result"
        }
      ],
      "source": [
        "DataB = DataB.drop(['Genero B.'], axis=1)\n",
        "\n",
        "DataB.head()"
      ]
    },
    {
      "cell_type": "code",
      "execution_count": 64,
      "metadata": {
        "id": "0Oyse1Uu_GEu"
      },
      "outputs": [],
      "source": [
        "#Preparo los datos para el entrenamiento decidi usar el 70% de los datos para esto\n",
        "# por el documento de analisis de Algoritmos, dejando el 30% para el testeo\n",
        "\n",
        "y = DataF[\"Capital\"]\n",
        "X= DataB\n",
        "\n",
        "X_train, X_test, y_train, y_test = train_test_split(X,y,test_size=0.3, random_state=42,stratify=y)\n",
        "\n",
        "sc = StandardScaler()\n",
        "X_train_array = sc.fit_transform(X_train.values)\n",
        "X_train = pd.DataFrame(X_train_array, index=X_train.index, columns=X_train.columns)\n",
        "X_test_array = sc.transform(X_test.values)\n",
        "X_test = pd.DataFrame(X_test_array, index=X_test.index, columns=X_test.columns)"
      ]
    },
    {
      "cell_type": "code",
      "execution_count": 65,
      "metadata": {
        "colab": {
          "base_uri": "https://localhost:8080/"
        },
        "id": "D4TakKxq_GEu",
        "outputId": "c3178ec5-c7a0-4ed3-e8f4-3db76cd5b595"
      },
      "outputs": [
        {
          "name": "stdout",
          "output_type": "stream",
          "text": [
            "0.7969362974033253\n"
          ]
        },
        {
          "data": {
            "image/png": "[encoded data removed]",
            "text/plain": [
              "<Figure size 432x288 with 2 Axes>"
            ]
          },
          "metadata": {
            "needs_background": "light"
          },
          "output_type": "display_data"
        }
      ],
      "source": [
        "#Modelo con Kernel RBF\n",
        "SegmentacionSalarial = svm.SVC()\n",
        "SegmentacionSalarial.fit(X_train, y_train)\n",
        "\n",
        "Y = SegmentacionSalarial.predict(X_test)\n",
        "Acc_3 = SegmentacionSalarial.score(X_test,y_test)\n",
        "print(Acc_3)\n",
        "confusion_matrix(Y, y_test)\n",
        "\n",
        "plot_confusion_matrix(SegmentacionSalarial, X_test, y_test)  \n",
        "plt.show()"
      ]
    },
    {
      "cell_type": "markdown",
      "metadata": {
        "id": "ynu8Q_qo_GEv"
      },
      "source": [
        "#### Pruebas con otros kernels (No mejoran el resultado)"
      ]
    },
    {
      "cell_type": "code",
      "execution_count": 66,
      "metadata": {
        "colab": {
          "base_uri": "https://localhost:8080/"
        },
        "id": "sJ_-WLmU_GEv",
        "outputId": "91c0088b-4d63-489d-dacd-294e0f7a3ac2"
      },
      "outputs": [
        {
          "name": "stdout",
          "output_type": "stream",
          "text": [
            "0.7853540070988231\n"
          ]
        },
        {
          "data": {
            "image/png": "[encoded data removed]",
            "text/plain": [
              "<Figure size 432x288 with 2 Axes>"
            ]
          },
          "metadata": {
            "needs_background": "light"
          },
          "output_type": "display_data"
        }
      ],
      "source": [
        "#Modelo con Kernel Linear\n",
        "SegmentacionSalarial = svm.SVC(kernel='linear')\n",
        "SegmentacionSalarial.fit(X_train, y_train)\n",
        "\n",
        "Y = SegmentacionSalarial.predict(X_test)\n",
        "print(SegmentacionSalarial.score(X_test,y_test))\n",
        "confusion_matrix(Y, y_test)\n",
        "\n",
        "plot_confusion_matrix(SegmentacionSalarial, X_test, y_test)  \n",
        "plt.show()"
      ]
    },
    {
      "cell_type": "code",
      "execution_count": 67,
      "metadata": {
        "colab": {
          "base_uri": "https://localhost:8080/"
        },
        "id": "QV1gY_Vw_GEw",
        "outputId": "a5692fc6-4753-4e3f-c069-d2c970ca58af"
      },
      "outputs": [
        {
          "name": "stdout",
          "output_type": "stream",
          "text": [
            "0.7831122734915001\n"
          ]
        },
        {
          "data": {
            "image/png": "[encoded data removed]",
            "text/plain": [
              "<Figure size 432x288 with 2 Axes>"
            ]
          },
          "metadata": {
            "needs_background": "light"
          },
          "output_type": "display_data"
        }
      ],
      "source": [
        "#Modelo con Kernel Polinomial\n",
        "SegmentacionSalarial = svm.SVC(kernel='poly')\n",
        "SegmentacionSalarial.fit(X_train, y_train)\n",
        "\n",
        "Y = SegmentacionSalarial.predict(X_test)\n",
        "print(SegmentacionSalarial.score(X_test,y_test))\n",
        "confusion_matrix(Y, y_test)\n",
        "\n",
        "plot_confusion_matrix(SegmentacionSalarial, X_test, y_test)  \n",
        "plt.show()"
      ]
    },
    {
      "cell_type": "code",
      "execution_count": 68,
      "metadata": {
        "colab": {
          "base_uri": "https://localhost:8080/"
        },
        "id": "pskuBb0Q_GEw",
        "outputId": "5cc5b423-e605-4088-8ea0-dfd3593994e9"
      },
      "outputs": [
        {
          "name": "stdout",
          "output_type": "stream",
          "text": [
            "0.7147393984681487\n"
          ]
        },
        {
          "data": {
            "image/png": "[encoded data removed]",
            "text/plain": [
              "<Figure size 432x288 with 2 Axes>"
            ]
          },
          "metadata": {
            "needs_background": "light"
          },
          "output_type": "display_data"
        }
      ],
      "source": [
        "#Modelo con Kernel Sigmoideal\n",
        "SegmentacionSalarial = svm.SVC(kernel='sigmoid')\n",
        "SegmentacionSalarial.fit(X_train, y_train)\n",
        "\n",
        "Y = SegmentacionSalarial.predict(X_test)\n",
        "print(SegmentacionSalarial.score(X_test,y_test))\n",
        "confusion_matrix(Y, y_test)\n",
        "\n",
        "plot_confusion_matrix(SegmentacionSalarial, X_test, y_test)  \n",
        "plt.show()"
      ]
    },
    {
      "cell_type": "markdown",
      "metadata": {
        "id": "d91u5ZCq_GEw"
      },
      "source": [
        "### SVM sin Pais de O. ni Genero B."
      ]
    },
    {
      "cell_type": "code",
      "execution_count": 69,
      "metadata": {
        "colab": {
          "base_uri": "https://localhost:8080/"
        },
        "id": "q-e-iHrP_GEx",
        "outputId": "5e2aaa2b-f638-466e-e307-1a36aacbff68"
      },
      "outputs": [
        {
          "data": {
            "text/html": [
              "<div>\n",
              "<style scoped>\n",
              "    .dataframe tbody tr th:only-of-type {\n",
              "        vertical-align: middle;\n",
              "    }\n",
              "\n",
              "    .dataframe tbody tr th {\n",
              "        vertical-align: top;\n",
              "    }\n",
              "\n",
              "    .dataframe thead th {\n",
              "        text-align: right;\n",
              "    }\n",
              "</style>\n",
              "<table border=\"1\" class=\"dataframe\">\n",
              "  <thead>\n",
              "    <tr style=\"text-align: right;\">\n",
              "      <th></th>\n",
              "      <th>Edad</th>\n",
              "      <th>T. Trabajo</th>\n",
              "      <th>Nivel Educativo</th>\n",
              "      <th>E. Civil</th>\n",
              "      <th>Ocupación</th>\n",
              "      <th>T. Pareja</th>\n",
              "      <th>Raza</th>\n",
              "      <th>H.Laborales</th>\n",
              "    </tr>\n",
              "  </thead>\n",
              "  <tbody>\n",
              "    <tr>\n",
              "      <th>0</th>\n",
              "      <td>39</td>\n",
              "      <td>6</td>\n",
              "      <td>13</td>\n",
              "      <td>3</td>\n",
              "      <td>9</td>\n",
              "      <td>4</td>\n",
              "      <td>1</td>\n",
              "      <td>40</td>\n",
              "    </tr>\n",
              "    <tr>\n",
              "      <th>1</th>\n",
              "      <td>50</td>\n",
              "      <td>2</td>\n",
              "      <td>13</td>\n",
              "      <td>1</td>\n",
              "      <td>5</td>\n",
              "      <td>3</td>\n",
              "      <td>1</td>\n",
              "      <td>13</td>\n",
              "    </tr>\n",
              "    <tr>\n",
              "      <th>2</th>\n",
              "      <td>38</td>\n",
              "      <td>1</td>\n",
              "      <td>9</td>\n",
              "      <td>2</td>\n",
              "      <td>7</td>\n",
              "      <td>4</td>\n",
              "      <td>1</td>\n",
              "      <td>40</td>\n",
              "    </tr>\n",
              "    <tr>\n",
              "      <th>3</th>\n",
              "      <td>53</td>\n",
              "      <td>1</td>\n",
              "      <td>7</td>\n",
              "      <td>1</td>\n",
              "      <td>7</td>\n",
              "      <td>3</td>\n",
              "      <td>4</td>\n",
              "      <td>40</td>\n",
              "    </tr>\n",
              "    <tr>\n",
              "      <th>4</th>\n",
              "      <td>28</td>\n",
              "      <td>1</td>\n",
              "      <td>13</td>\n",
              "      <td>1</td>\n",
              "      <td>6</td>\n",
              "      <td>1</td>\n",
              "      <td>4</td>\n",
              "      <td>40</td>\n",
              "    </tr>\n",
              "  </tbody>\n",
              "</table>\n",
              "</div>"
            ],
            "text/plain": [
              "   Edad  T. Trabajo  Nivel Educativo  E. Civil  Ocupación  T. Pareja  Raza  \\\n",
              "0    39           6               13         3          9          4     1   \n",
              "1    50           2               13         1          5          3     1   \n",
              "2    38           1                9         2          7          4     1   \n",
              "3    53           1                7         1          7          3     4   \n",
              "4    28           1               13         1          6          1     4   \n",
              "\n",
              "   H.Laborales  \n",
              "0           40  \n",
              "1           13  \n",
              "2           40  \n",
              "3           40  \n",
              "4           40  "
            ]
          },
          "execution_count": 69,
          "metadata": {},
          "output_type": "execute_result"
        }
      ],
      "source": [
        "DataB = DataB.drop(['Pais de Origen'], axis=1)\n",
        "\n",
        "DataB.head()"
      ]
    },
    {
      "cell_type": "code",
      "execution_count": 70,
      "metadata": {
        "id": "RDZJDS-F_GEx"
      },
      "outputs": [],
      "source": [
        "#Preparo los datos para el entrenamiento decidi usar el 70% de los datos para esto\n",
        "# por el documento de analisis de Algoritmos, dejando el 30% para el testeo\n",
        "\n",
        "y = DataF[\"Capital\"]\n",
        "X= DataB\n",
        "\n",
        "X_train, X_test, y_train, y_test = train_test_split(X,y,test_size=0.3, random_state=42,stratify=y)\n",
        "\n",
        "sc = StandardScaler()\n",
        "X_train_array = sc.fit_transform(X_train.values)\n",
        "X_train = pd.DataFrame(X_train_array, index=X_train.index, columns=X_train.columns)\n",
        "X_test_array = sc.transform(X_test.values)\n",
        "X_test = pd.DataFrame(X_test_array, index=X_test.index, columns=X_test.columns)"
      ]
    },
    {
      "cell_type": "code",
      "execution_count": 71,
      "metadata": {
        "colab": {
          "base_uri": "https://localhost:8080/"
        },
        "id": "OL_jo-II_GEy",
        "outputId": "53b0334f-d67e-43ce-8e37-d07d19986516"
      },
      "outputs": [
        {
          "name": "stdout",
          "output_type": "stream",
          "text": [
            "0.7973099196712125\n"
          ]
        },
        {
          "data": {
            "image/png": "[encoded data removed]",
            "text/plain": [
              "<Figure size 432x288 with 2 Axes>"
            ]
          },
          "metadata": {
            "needs_background": "light"
          },
          "output_type": "display_data"
        }
      ],
      "source": [
        "#Modelo con Kernel RBF\n",
        "SegmentacionSalarial = svm.SVC()\n",
        "SegmentacionSalarial.fit(X_train, y_train)\n",
        "\n",
        "Y = SegmentacionSalarial.predict(X_test)\n",
        "Acc_4 = SegmentacionSalarial.score(X_test,y_test)\n",
        "print(Acc_4)\n",
        "confusion_matrix(Y, y_test)\n",
        "\n",
        "plot_confusion_matrix(SegmentacionSalarial, X_test, y_test)  \n",
        "plt.show()"
      ]
    },
    {
      "cell_type": "markdown",
      "metadata": {
        "id": "AggU7F46_GEy"
      },
      "source": [
        "### Comparación y Analisis"
      ]
    },
    {
      "cell_type": "code",
      "execution_count": 72,
      "metadata": {
        "colab": {
          "base_uri": "https://localhost:8080/",
          "height": 626
        },
        "id": "Qfq80KEG_GEy",
        "outputId": "393b3455-dfb5-4a20-92f8-0dd18088ed8d"
      },
      "outputs": [
        {
          "data": {
            "text/plain": [
              "Text(0.5, 1.0, 'Comparativa del % de Presición sobre el 79%')"
            ]
          },
          "execution_count": 72,
          "metadata": {},
          "output_type": "execute_result"
        },
        {
          "data": {
            "image/png": "[encoded data removed]",
            "text/plain": [
              "<Figure size 720x720 with 1 Axes>"
            ]
          },
          "metadata": {
            "needs_background": "light"
          },
          "output_type": "display_data"
        }
      ],
      "source": [
        "fig, ax = plt.subplots()\n",
        "fig.set_size_inches(10, 10)\n",
        "accuracy_1 = Acc_1*100-79\n",
        "accuracy_2 = Acc_2*100-79\n",
        "accuracy_3 = Acc_3*100-79\n",
        "accuracy_4 = Acc_4*100-79\n",
        "sns.barplot(x=[ \"Precisión con todos los datos\", \"Precisión sin Pais de O.\", \"Precisión sin Genero B.\", \"Precisión sin G.B. ni P.O.\"],\n",
        "            y=[ accuracy_2, accuracy_1, accuracy_3, accuracy_4])\n",
        "ax.set_title('Comparativa del % de Presición sobre el 79%',\n",
        "             fontsize=16, weight=\"bold\")\n",
        "\n",
        "#En todos los casos se tomaron los resultados con Kernel RBF pues fue el mejor resultado en cada caso"
      ]
    },
    {
      "cell_type": "markdown",
      "metadata": {
        "id": "Y9To9ZYiI0JR"
      },
      "source": [
        "##Corelación"
      ]
    },
    {
      "cell_type": "code",
      "execution_count": 75,
      "metadata": {
        "colab": {
          "base_uri": "https://localhost:8080/",
          "height": 408
        },
        "id": "Qh6V_LtxI61H",
        "outputId": "1b2202c6-1e1b-4378-d675-567801db9348"
      },
      "outputs": [
        {
          "data": {
            "text/html": [
              "<div>\n",
              "<style scoped>\n",
              "    .dataframe tbody tr th:only-of-type {\n",
              "        vertical-align: middle;\n",
              "    }\n",
              "\n",
              "    .dataframe tbody tr th {\n",
              "        vertical-align: top;\n",
              "    }\n",
              "\n",
              "    .dataframe thead th {\n",
              "        text-align: right;\n",
              "    }\n",
              "</style>\n",
              "<table border=\"1\" class=\"dataframe\">\n",
              "  <thead>\n",
              "    <tr style=\"text-align: right;\">\n",
              "      <th></th>\n",
              "      <th>Age</th>\n",
              "      <th>Workclass</th>\n",
              "      <th>fnlwgt</th>\n",
              "      <th>Education</th>\n",
              "      <th>Education-num</th>\n",
              "      <th>Marital-Status</th>\n",
              "      <th>Occupation</th>\n",
              "      <th>Relationship</th>\n",
              "      <th>Race</th>\n",
              "      <th>Sex</th>\n",
              "      <th>Capital-gain</th>\n",
              "      <th>Capital-loss</th>\n",
              "      <th>Hours-per-Week</th>\n",
              "      <th>Native-Country</th>\n",
              "      <th>Capital</th>\n",
              "    </tr>\n",
              "  </thead>\n",
              "  <tbody>\n",
              "    <tr>\n",
              "      <th>0</th>\n",
              "      <td>39</td>\n",
              "      <td>State-gov</td>\n",
              "      <td>77516</td>\n",
              "      <td>Bachelors</td>\n",
              "      <td>13</td>\n",
              "      <td>Never-married</td>\n",
              "      <td>Adm-clerical</td>\n",
              "      <td>Not-in-family</td>\n",
              "      <td>White</td>\n",
              "      <td>Male</td>\n",
              "      <td>2174</td>\n",
              "      <td>0</td>\n",
              "      <td>40</td>\n",
              "      <td>United-States</td>\n",
              "      <td>-1</td>\n",
              "    </tr>\n",
              "    <tr>\n",
              "      <th>1</th>\n",
              "      <td>50</td>\n",
              "      <td>Self-emp-not-inc</td>\n",
              "      <td>83311</td>\n",
              "      <td>Bachelors</td>\n",
              "      <td>13</td>\n",
              "      <td>Married-civ-spouse</td>\n",
              "      <td>Exec-managerial</td>\n",
              "      <td>Husband</td>\n",
              "      <td>White</td>\n",
              "      <td>Male</td>\n",
              "      <td>0</td>\n",
              "      <td>0</td>\n",
              "      <td>13</td>\n",
              "      <td>United-States</td>\n",
              "      <td>-1</td>\n",
              "    </tr>\n",
              "    <tr>\n",
              "      <th>2</th>\n",
              "      <td>38</td>\n",
              "      <td>Private</td>\n",
              "      <td>215646</td>\n",
              "      <td>HS-grad</td>\n",
              "      <td>9</td>\n",
              "      <td>Divorced</td>\n",
              "      <td>Handlers-cleaners</td>\n",
              "      <td>Not-in-family</td>\n",
              "      <td>White</td>\n",
              "      <td>Male</td>\n",
              "      <td>0</td>\n",
              "      <td>0</td>\n",
              "      <td>40</td>\n",
              "      <td>United-States</td>\n",
              "      <td>-1</td>\n",
              "    </tr>\n",
              "    <tr>\n",
              "      <th>3</th>\n",
              "      <td>53</td>\n",
              "      <td>Private</td>\n",
              "      <td>234721</td>\n",
              "      <td>11th</td>\n",
              "      <td>7</td>\n",
              "      <td>Married-civ-spouse</td>\n",
              "      <td>Handlers-cleaners</td>\n",
              "      <td>Husband</td>\n",
              "      <td>Black</td>\n",
              "      <td>Male</td>\n",
              "      <td>0</td>\n",
              "      <td>0</td>\n",
              "      <td>40</td>\n",
              "      <td>United-States</td>\n",
              "      <td>-1</td>\n",
              "    </tr>\n",
              "    <tr>\n",
              "      <th>4</th>\n",
              "      <td>28</td>\n",
              "      <td>Private</td>\n",
              "      <td>338409</td>\n",
              "      <td>Bachelors</td>\n",
              "      <td>13</td>\n",
              "      <td>Married-civ-spouse</td>\n",
              "      <td>Prof-specialty</td>\n",
              "      <td>Wife</td>\n",
              "      <td>Black</td>\n",
              "      <td>Female</td>\n",
              "      <td>0</td>\n",
              "      <td>0</td>\n",
              "      <td>40</td>\n",
              "      <td>Cuba</td>\n",
              "      <td>-1</td>\n",
              "    </tr>\n",
              "  </tbody>\n",
              "</table>\n",
              "</div>"
            ],
            "text/plain": [
              "   Age          Workclass  fnlwgt   Education  Education-num  \\\n",
              "0   39          State-gov   77516   Bachelors             13   \n",
              "1   50   Self-emp-not-inc   83311   Bachelors             13   \n",
              "2   38            Private  215646     HS-grad              9   \n",
              "3   53            Private  234721        11th              7   \n",
              "4   28            Private  338409   Bachelors             13   \n",
              "\n",
              "        Marital-Status          Occupation    Relationship    Race      Sex  \\\n",
              "0        Never-married        Adm-clerical   Not-in-family   White     Male   \n",
              "1   Married-civ-spouse     Exec-managerial         Husband   White     Male   \n",
              "2             Divorced   Handlers-cleaners   Not-in-family   White     Male   \n",
              "3   Married-civ-spouse   Handlers-cleaners         Husband   Black     Male   \n",
              "4   Married-civ-spouse      Prof-specialty            Wife   Black   Female   \n",
              "\n",
              "   Capital-gain  Capital-loss  Hours-per-Week  Native-Country  Capital  \n",
              "0          2174             0              40   United-States       -1  \n",
              "1             0             0              13   United-States       -1  \n",
              "2             0             0              40   United-States       -1  \n",
              "3             0             0              40   United-States       -1  \n",
              "4             0             0              40            Cuba       -1  "
            ]
          },
          "execution_count": 75,
          "metadata": {},
          "output_type": "execute_result"
        }
      ],
      "source": [
        "#Inicializar la base de datos original\n",
        "DataF = pd.read_csv(r'C:\\Users\\ASUS\\Desktop\\Examples SVM\\Adult Classification\\Data\\adult_data.csv', names = columns)\n",
        "\n",
        "def CapitalIndicator(Capital):\n",
        "  if (\"<\" in Capital):\n",
        "    return (-1)\n",
        "  if (\">\" in Capital):\n",
        "    return (1)\n",
        "\n",
        "#Podemos definir funciones y crear nuevas columnas con datos generados a partir de los datos ya existentes\n",
        "DataF[\"Capital\"] = DataF[\"Capital\"].apply(CapitalIndicator)\n",
        "DataF.head()"
      ]
    },
    {
      "cell_type": "code",
      "execution_count": 76,
      "metadata": {
        "colab": {
          "base_uri": "https://localhost:8080/",
          "height": 408
        },
        "id": "Wl-anzMKJKV4",
        "outputId": "cf15d990-68aa-4a6d-db0c-356d8e900bd1"
      },
      "outputs": [
        {
          "data": {
            "text/html": [
              "<div>\n",
              "<style scoped>\n",
              "    .dataframe tbody tr th:only-of-type {\n",
              "        vertical-align: middle;\n",
              "    }\n",
              "\n",
              "    .dataframe tbody tr th {\n",
              "        vertical-align: top;\n",
              "    }\n",
              "\n",
              "    .dataframe thead th {\n",
              "        text-align: right;\n",
              "    }\n",
              "</style>\n",
              "<table border=\"1\" class=\"dataframe\">\n",
              "  <thead>\n",
              "    <tr style=\"text-align: right;\">\n",
              "      <th></th>\n",
              "      <th>Edad</th>\n",
              "      <th>T. Trabajo</th>\n",
              "      <th>Nivel Educativo</th>\n",
              "      <th>E. Civil</th>\n",
              "      <th>Ocupación</th>\n",
              "      <th>T. Pareja</th>\n",
              "      <th>Raza</th>\n",
              "      <th>Genero B.</th>\n",
              "      <th>H.Laborales</th>\n",
              "    </tr>\n",
              "  </thead>\n",
              "  <tbody>\n",
              "    <tr>\n",
              "      <th>0</th>\n",
              "      <td>39</td>\n",
              "      <td>6</td>\n",
              "      <td>13</td>\n",
              "      <td>3</td>\n",
              "      <td>9</td>\n",
              "      <td>4</td>\n",
              "      <td>1</td>\n",
              "      <td>2</td>\n",
              "      <td>40</td>\n",
              "    </tr>\n",
              "    <tr>\n",
              "      <th>1</th>\n",
              "      <td>50</td>\n",
              "      <td>2</td>\n",
              "      <td>13</td>\n",
              "      <td>1</td>\n",
              "      <td>5</td>\n",
              "      <td>3</td>\n",
              "      <td>1</td>\n",
              "      <td>2</td>\n",
              "      <td>13</td>\n",
              "    </tr>\n",
              "    <tr>\n",
              "      <th>2</th>\n",
              "      <td>38</td>\n",
              "      <td>1</td>\n",
              "      <td>9</td>\n",
              "      <td>2</td>\n",
              "      <td>7</td>\n",
              "      <td>4</td>\n",
              "      <td>1</td>\n",
              "      <td>2</td>\n",
              "      <td>40</td>\n",
              "    </tr>\n",
              "    <tr>\n",
              "      <th>3</th>\n",
              "      <td>53</td>\n",
              "      <td>1</td>\n",
              "      <td>7</td>\n",
              "      <td>1</td>\n",
              "      <td>7</td>\n",
              "      <td>3</td>\n",
              "      <td>4</td>\n",
              "      <td>2</td>\n",
              "      <td>40</td>\n",
              "    </tr>\n",
              "    <tr>\n",
              "      <th>4</th>\n",
              "      <td>28</td>\n",
              "      <td>1</td>\n",
              "      <td>13</td>\n",
              "      <td>1</td>\n",
              "      <td>6</td>\n",
              "      <td>1</td>\n",
              "      <td>4</td>\n",
              "      <td>1</td>\n",
              "      <td>40</td>\n",
              "    </tr>\n",
              "  </tbody>\n",
              "</table>\n",
              "</div>"
            ],
            "text/plain": [
              "   Edad  T. Trabajo  Nivel Educativo  E. Civil  Ocupación  T. Pareja  Raza  \\\n",
              "0    39           6               13         3          9          4     1   \n",
              "1    50           2               13         1          5          3     1   \n",
              "2    38           1                9         2          7          4     1   \n",
              "3    53           1                7         1          7          3     4   \n",
              "4    28           1               13         1          6          1     4   \n",
              "\n",
              "   Genero B.  H.Laborales  \n",
              "0          2           40  \n",
              "1          2           13  \n",
              "2          2           40  \n",
              "3          2           40  \n",
              "4          1           40  "
            ]
          },
          "execution_count": 76,
          "metadata": {},
          "output_type": "execute_result"
        }
      ],
      "source": [
        "DataB = pd.DataFrame()\n",
        "\n",
        "DataB[\"Edad\"] = DataF[\"Age\"]\n",
        "DataB[\"T. Trabajo\"] = DataF[\"Workclass\"].apply(ClassToType) \n",
        "DataB[\"Nivel Educativo\"] = DataF[\"Education-num\"]\n",
        "DataB[\"E. Civil\"] = DataF[\"Marital-Status\"].apply(StatusToType) \n",
        "DataB[\"Ocupación\"] = DataF[\"Occupation\"].apply(OcupToType)\n",
        "DataB[\"T. Pareja\"] = DataF[\"Relationship\"].apply(RelationToType)\n",
        "DataB[\"Raza\"] = DataF[\"Race\"].apply(RaceToType)\n",
        "DataB[\"Genero B.\"] = DataF[\"Sex\"].apply(SexToType)\n",
        "DataB[\"H.Laborales\"] = DataF[\"Hours-per-Week\"]\n",
        "\n",
        "DataB.head()"
      ]
    },
    {
      "cell_type": "code",
      "execution_count": 83,
      "metadata": {
        "colab": {
          "base_uri": "https://localhost:8080/",
          "height": 351
        },
        "id": "u5dVXf-fJ8V1",
        "outputId": "d49aaca0-0138-4cc0-d350-48414c8d9314"
      },
      "outputs": [
        {
          "data": {
            "image/png": "[encoded data removed]",
            "text/plain": [
              "<Figure size 432x288 with 2 Axes>"
            ]
          },
          "metadata": {
            "needs_background": "light"
          },
          "output_type": "display_data"
        }
      ],
      "source": [
        "\"\"\"Para garantizar la utilidad de todos los datos\n",
        "se busca que no exista correlacion entre ellos, ya \n",
        "que esto implicaria que dos tipos de datos distintos\n",
        "estan dando la misma informacion y ensuciarian el resultado, \n",
        "apoyados en la libreria de pandas, usamos el comando .crr()\n",
        "para ver qu ¿e esta correlacion no existe entre nuestros\n",
        "datos, lo cual es bueno para el estudio y su analisis\"\"\"\n",
        "\n",
        "#Nota:\n",
        "#     [ 0.7 , 1 ] Correlacion Fuerte\n",
        "#     [0.3 , 0.7) Correlacion Leve\n",
        "#     (-0.3, 0.3) Sin Correlacion ---Esto es lo Ideal---\n",
        "#     (-0.7,-0.3] Correlacion inversa Leve  (Cuando uno crece el otro decrece)\n",
        "#     [-1 , -0.7] Correlacion Inversa Fuerte \n",
        " \n",
        "Cor = DataB.corr()\n",
        "plt.Figure(figsize=(15,8))\n",
        "pt_corr =sns.heatmap(Cor)"
      ]
    }
  ],
  "metadata": {
    "colab": {
      "name": "Support Vector Machine",
      "provenance": [],
      "toc_visible": true
    },
    "interpreter": {
      "hash": "a90aeebcf29d64a654773811cc170cb25061cb2498f10ac689db374c7bf325de"
    },
    "kernelspec": {
      "display_name": "Python 3.9.7 ('base')",
      "language": "python",
      "name": "python3"
    },
    "language_info": {
      "codemirror_mode": {
        "name": "ipython",
        "version": 3
      },
      "file_extension": ".py",
      "mimetype": "text/x-python",
      "name": "python",
      "nbconvert_exporter": "python",
      "pygments_lexer": "ipython3",
      "version": "3.9.7"
    }
  },
  "nbformat": 4,
  "nbformat_minor": 0
}
